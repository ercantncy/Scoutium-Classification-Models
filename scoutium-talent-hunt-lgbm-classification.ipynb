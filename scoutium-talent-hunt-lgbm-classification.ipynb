{
 "cells": [
  {
   "cell_type": "markdown",
   "id": "52e1648f",
   "metadata": {
    "papermill": {
     "duration": 0.010002,
     "end_time": "2022-08-15T19:51:33.912547",
     "exception": false,
     "start_time": "2022-08-15T19:51:33.902545",
     "status": "completed"
    },
    "tags": []
   },
   "source": [
    "### **Problem**\n",
    "\n",
    "Predicting the high skilled players according to the scores given to the skills of football players by scouts.\n"
   ]
  },
  {
   "cell_type": "code",
   "execution_count": 1,
   "id": "610a036e",
   "metadata": {
    "_cell_guid": "b1076dfc-b9ad-4769-8c92-a6c4dae69d19",
    "_uuid": "8f2839f25d086af736a60e9eeb907d3b93b6e0e5",
    "execution": {
     "iopub.execute_input": "2022-08-15T19:51:33.932169Z",
     "iopub.status.busy": "2022-08-15T19:51:33.931697Z",
     "iopub.status.idle": "2022-08-15T19:51:37.072281Z",
     "shell.execute_reply": "2022-08-15T19:51:37.070191Z"
    },
    "papermill": {
     "duration": 3.155432,
     "end_time": "2022-08-15T19:51:37.076852",
     "exception": false,
     "start_time": "2022-08-15T19:51:33.921420",
     "status": "completed"
    },
    "tags": []
   },
   "outputs": [
    {
     "data": {
      "text/html": [
       "<style type='text/css'>\n",
       ".datatable table.frame { margin-bottom: 0; }\n",
       ".datatable table.frame thead { border-bottom: none; }\n",
       ".datatable table.frame tr.coltypes td {  color: #FFFFFF;  line-height: 6px;  padding: 0 0.5em;}\n",
       ".datatable .bool    { background: #DDDD99; }\n",
       ".datatable .object  { background: #565656; }\n",
       ".datatable .int     { background: #5D9E5D; }\n",
       ".datatable .float   { background: #4040CC; }\n",
       ".datatable .str     { background: #CC4040; }\n",
       ".datatable .time    { background: #40CC40; }\n",
       ".datatable .row_index {  background: var(--jp-border-color3);  border-right: 1px solid var(--jp-border-color0);  color: var(--jp-ui-font-color3);  font-size: 9px;}\n",
       ".datatable .frame tbody td { text-align: left; }\n",
       ".datatable .frame tr.coltypes .row_index {  background: var(--jp-border-color0);}\n",
       ".datatable th:nth-child(2) { padding-left: 12px; }\n",
       ".datatable .hellipsis {  color: var(--jp-cell-editor-border-color);}\n",
       ".datatable .vellipsis {  background: var(--jp-layout-color0);  color: var(--jp-cell-editor-border-color);}\n",
       ".datatable .na {  color: var(--jp-cell-editor-border-color);  font-size: 80%;}\n",
       ".datatable .sp {  opacity: 0.25;}\n",
       ".datatable .footer { font-size: 9px; }\n",
       ".datatable .frame_dimensions {  background: var(--jp-border-color3);  border-top: 1px solid var(--jp-border-color0);  color: var(--jp-ui-font-color3);  display: inline-block;  opacity: 0.6;  padding: 1px 10px 1px 5px;}\n",
       "</style>\n"
      ],
      "text/plain": [
       "<IPython.core.display.HTML object>"
      ]
     },
     "metadata": {},
     "output_type": "display_data"
    }
   ],
   "source": [
    "import warnings\n",
    "import numpy as np\n",
    "import pandas as pd\n",
    "import seaborn as sns\n",
    "from matplotlib import pyplot as plt\n",
    "from sklearn.tree import DecisionTreeClassifier, export_graphviz, export_text\n",
    "from sklearn.metrics import classification_report, roc_auc_score, accuracy_score, f1_score, recall_score, precision_score\n",
    "from sklearn.model_selection import train_test_split, GridSearchCV, cross_validate, validation_curve, cross_val_score\n",
    "from sklearn.preprocessing import LabelEncoder, OneHotEncoder, StandardScaler\n",
    "import graphviz\n",
    "\n",
    "from xgboost import XGBClassifier\n",
    "from lightgbm import LGBMClassifier\n",
    "from catboost import CatBoostClassifier\n",
    "from sklearn.ensemble import RandomForestClassifier, GradientBoostingClassifier\n",
    "from sklearn.linear_model import LogisticRegression\n",
    "from sklearn.svm import SVC\n",
    "\n",
    "from pandas.core.common import SettingWithCopyWarning\n",
    "from sklearn.exceptions import ConvergenceWarning\n",
    "\n",
    "warnings.simplefilter(action='ignore', category=FutureWarning)\n",
    "warnings.simplefilter(action=\"ignore\", category=ConvergenceWarning)\n",
    "warnings.simplefilter(action=\"ignore\", category=SettingWithCopyWarning)\n",
    "\n",
    "pd.set_option('display.max_columns', None)\n",
    "pd.set_option('display.width', 500)\n"
   ]
  },
  {
   "cell_type": "code",
   "execution_count": 2,
   "id": "05811c55",
   "metadata": {
    "execution": {
     "iopub.execute_input": "2022-08-15T19:51:37.106106Z",
     "iopub.status.busy": "2022-08-15T19:51:37.105378Z",
     "iopub.status.idle": "2022-08-15T19:51:37.156216Z",
     "shell.execute_reply": "2022-08-15T19:51:37.154863Z"
    },
    "papermill": {
     "duration": 0.067876,
     "end_time": "2022-08-15T19:51:37.159763",
     "exception": false,
     "start_time": "2022-08-15T19:51:37.091887",
     "status": "completed"
    },
    "tags": []
   },
   "outputs": [],
   "source": [
    "attributes = pd.read_csv(\"../input/scotium-dataset/scoutium_attributes.csv\", delimiter= \";\")\n",
    "potential_labels = pd.read_csv(\"../input/scotium-dataset/scoutium_potential_labels.csv\", delimiter=\";\")"
   ]
  },
  {
   "cell_type": "code",
   "execution_count": 3,
   "id": "4e998cf8",
   "metadata": {
    "execution": {
     "iopub.execute_input": "2022-08-15T19:51:37.185484Z",
     "iopub.status.busy": "2022-08-15T19:51:37.184145Z",
     "iopub.status.idle": "2022-08-15T19:51:37.206294Z",
     "shell.execute_reply": "2022-08-15T19:51:37.205058Z"
    },
    "papermill": {
     "duration": 0.035777,
     "end_time": "2022-08-15T19:51:37.208861",
     "exception": false,
     "start_time": "2022-08-15T19:51:37.173084",
     "status": "completed"
    },
    "tags": []
   },
   "outputs": [
    {
     "data": {
      "text/html": [
       "<div>\n",
       "<style scoped>\n",
       "    .dataframe tbody tr th:only-of-type {\n",
       "        vertical-align: middle;\n",
       "    }\n",
       "\n",
       "    .dataframe tbody tr th {\n",
       "        vertical-align: top;\n",
       "    }\n",
       "\n",
       "    .dataframe thead th {\n",
       "        text-align: right;\n",
       "    }\n",
       "</style>\n",
       "<table border=\"1\" class=\"dataframe\">\n",
       "  <thead>\n",
       "    <tr style=\"text-align: right;\">\n",
       "      <th></th>\n",
       "      <th>task_response_id</th>\n",
       "      <th>match_id</th>\n",
       "      <th>evaluator_id</th>\n",
       "      <th>player_id</th>\n",
       "      <th>position_id</th>\n",
       "      <th>analysis_id</th>\n",
       "      <th>attribute_id</th>\n",
       "      <th>attribute_value</th>\n",
       "    </tr>\n",
       "  </thead>\n",
       "  <tbody>\n",
       "    <tr>\n",
       "      <th>0</th>\n",
       "      <td>4915</td>\n",
       "      <td>62935</td>\n",
       "      <td>177676</td>\n",
       "      <td>1361061</td>\n",
       "      <td>2</td>\n",
       "      <td>12818495</td>\n",
       "      <td>4322</td>\n",
       "      <td>56.0</td>\n",
       "    </tr>\n",
       "    <tr>\n",
       "      <th>1</th>\n",
       "      <td>4915</td>\n",
       "      <td>62935</td>\n",
       "      <td>177676</td>\n",
       "      <td>1361061</td>\n",
       "      <td>2</td>\n",
       "      <td>12818495</td>\n",
       "      <td>4323</td>\n",
       "      <td>56.0</td>\n",
       "    </tr>\n",
       "    <tr>\n",
       "      <th>2</th>\n",
       "      <td>4915</td>\n",
       "      <td>62935</td>\n",
       "      <td>177676</td>\n",
       "      <td>1361061</td>\n",
       "      <td>2</td>\n",
       "      <td>12818495</td>\n",
       "      <td>4324</td>\n",
       "      <td>67.0</td>\n",
       "    </tr>\n",
       "    <tr>\n",
       "      <th>3</th>\n",
       "      <td>4915</td>\n",
       "      <td>62935</td>\n",
       "      <td>177676</td>\n",
       "      <td>1361061</td>\n",
       "      <td>2</td>\n",
       "      <td>12818495</td>\n",
       "      <td>4325</td>\n",
       "      <td>56.0</td>\n",
       "    </tr>\n",
       "    <tr>\n",
       "      <th>4</th>\n",
       "      <td>4915</td>\n",
       "      <td>62935</td>\n",
       "      <td>177676</td>\n",
       "      <td>1361061</td>\n",
       "      <td>2</td>\n",
       "      <td>12818495</td>\n",
       "      <td>4326</td>\n",
       "      <td>45.0</td>\n",
       "    </tr>\n",
       "  </tbody>\n",
       "</table>\n",
       "</div>"
      ],
      "text/plain": [
       "   task_response_id  match_id  evaluator_id  player_id  position_id  analysis_id  attribute_id  attribute_value\n",
       "0              4915     62935        177676    1361061            2     12818495          4322             56.0\n",
       "1              4915     62935        177676    1361061            2     12818495          4323             56.0\n",
       "2              4915     62935        177676    1361061            2     12818495          4324             67.0\n",
       "3              4915     62935        177676    1361061            2     12818495          4325             56.0\n",
       "4              4915     62935        177676    1361061            2     12818495          4326             45.0"
      ]
     },
     "execution_count": 3,
     "metadata": {},
     "output_type": "execute_result"
    }
   ],
   "source": [
    "attributes.head()"
   ]
  },
  {
   "cell_type": "code",
   "execution_count": 4,
   "id": "28554462",
   "metadata": {
    "execution": {
     "iopub.execute_input": "2022-08-15T19:51:37.234356Z",
     "iopub.status.busy": "2022-08-15T19:51:37.233035Z",
     "iopub.status.idle": "2022-08-15T19:51:37.245494Z",
     "shell.execute_reply": "2022-08-15T19:51:37.244321Z"
    },
    "papermill": {
     "duration": 0.030094,
     "end_time": "2022-08-15T19:51:37.248131",
     "exception": false,
     "start_time": "2022-08-15T19:51:37.218037",
     "status": "completed"
    },
    "tags": []
   },
   "outputs": [
    {
     "data": {
      "text/html": [
       "<div>\n",
       "<style scoped>\n",
       "    .dataframe tbody tr th:only-of-type {\n",
       "        vertical-align: middle;\n",
       "    }\n",
       "\n",
       "    .dataframe tbody tr th {\n",
       "        vertical-align: top;\n",
       "    }\n",
       "\n",
       "    .dataframe thead th {\n",
       "        text-align: right;\n",
       "    }\n",
       "</style>\n",
       "<table border=\"1\" class=\"dataframe\">\n",
       "  <thead>\n",
       "    <tr style=\"text-align: right;\">\n",
       "      <th></th>\n",
       "      <th>task_response_id</th>\n",
       "      <th>match_id</th>\n",
       "      <th>evaluator_id</th>\n",
       "      <th>player_id</th>\n",
       "      <th>potential_label</th>\n",
       "    </tr>\n",
       "  </thead>\n",
       "  <tbody>\n",
       "    <tr>\n",
       "      <th>0</th>\n",
       "      <td>4915</td>\n",
       "      <td>62935</td>\n",
       "      <td>177676</td>\n",
       "      <td>1361061</td>\n",
       "      <td>average</td>\n",
       "    </tr>\n",
       "    <tr>\n",
       "      <th>1</th>\n",
       "      <td>4915</td>\n",
       "      <td>62935</td>\n",
       "      <td>177676</td>\n",
       "      <td>1361626</td>\n",
       "      <td>highlighted</td>\n",
       "    </tr>\n",
       "    <tr>\n",
       "      <th>2</th>\n",
       "      <td>4915</td>\n",
       "      <td>62935</td>\n",
       "      <td>177676</td>\n",
       "      <td>1361858</td>\n",
       "      <td>average</td>\n",
       "    </tr>\n",
       "    <tr>\n",
       "      <th>3</th>\n",
       "      <td>4915</td>\n",
       "      <td>62935</td>\n",
       "      <td>177676</td>\n",
       "      <td>1362220</td>\n",
       "      <td>highlighted</td>\n",
       "    </tr>\n",
       "    <tr>\n",
       "      <th>4</th>\n",
       "      <td>4915</td>\n",
       "      <td>62935</td>\n",
       "      <td>177676</td>\n",
       "      <td>1364951</td>\n",
       "      <td>highlighted</td>\n",
       "    </tr>\n",
       "  </tbody>\n",
       "</table>\n",
       "</div>"
      ],
      "text/plain": [
       "   task_response_id  match_id  evaluator_id  player_id potential_label\n",
       "0              4915     62935        177676    1361061         average\n",
       "1              4915     62935        177676    1361626     highlighted\n",
       "2              4915     62935        177676    1361858         average\n",
       "3              4915     62935        177676    1362220     highlighted\n",
       "4              4915     62935        177676    1364951     highlighted"
      ]
     },
     "execution_count": 4,
     "metadata": {},
     "output_type": "execute_result"
    }
   ],
   "source": [
    "potential_labels.head()"
   ]
  },
  {
   "cell_type": "code",
   "execution_count": 5,
   "id": "d1728b3d",
   "metadata": {
    "execution": {
     "iopub.execute_input": "2022-08-15T19:51:37.271262Z",
     "iopub.status.busy": "2022-08-15T19:51:37.269996Z",
     "iopub.status.idle": "2022-08-15T19:51:37.307433Z",
     "shell.execute_reply": "2022-08-15T19:51:37.306133Z"
    },
    "papermill": {
     "duration": 0.052694,
     "end_time": "2022-08-15T19:51:37.310702",
     "exception": false,
     "start_time": "2022-08-15T19:51:37.258008",
     "status": "completed"
    },
    "tags": []
   },
   "outputs": [
    {
     "data": {
      "text/html": [
       "<div>\n",
       "<style scoped>\n",
       "    .dataframe tbody tr th:only-of-type {\n",
       "        vertical-align: middle;\n",
       "    }\n",
       "\n",
       "    .dataframe tbody tr th {\n",
       "        vertical-align: top;\n",
       "    }\n",
       "\n",
       "    .dataframe thead th {\n",
       "        text-align: right;\n",
       "    }\n",
       "</style>\n",
       "<table border=\"1\" class=\"dataframe\">\n",
       "  <thead>\n",
       "    <tr style=\"text-align: right;\">\n",
       "      <th></th>\n",
       "      <th>task_response_id</th>\n",
       "      <th>match_id</th>\n",
       "      <th>evaluator_id</th>\n",
       "      <th>player_id</th>\n",
       "      <th>position_id</th>\n",
       "      <th>analysis_id</th>\n",
       "      <th>attribute_id</th>\n",
       "      <th>attribute_value</th>\n",
       "      <th>potential_label</th>\n",
       "    </tr>\n",
       "  </thead>\n",
       "  <tbody>\n",
       "    <tr>\n",
       "      <th>0</th>\n",
       "      <td>4915</td>\n",
       "      <td>62935</td>\n",
       "      <td>177676</td>\n",
       "      <td>1361061</td>\n",
       "      <td>2</td>\n",
       "      <td>12818495</td>\n",
       "      <td>4322</td>\n",
       "      <td>56.0</td>\n",
       "      <td>average</td>\n",
       "    </tr>\n",
       "    <tr>\n",
       "      <th>1</th>\n",
       "      <td>4915</td>\n",
       "      <td>62935</td>\n",
       "      <td>177676</td>\n",
       "      <td>1361061</td>\n",
       "      <td>2</td>\n",
       "      <td>12818495</td>\n",
       "      <td>4323</td>\n",
       "      <td>56.0</td>\n",
       "      <td>average</td>\n",
       "    </tr>\n",
       "    <tr>\n",
       "      <th>2</th>\n",
       "      <td>4915</td>\n",
       "      <td>62935</td>\n",
       "      <td>177676</td>\n",
       "      <td>1361061</td>\n",
       "      <td>2</td>\n",
       "      <td>12818495</td>\n",
       "      <td>4324</td>\n",
       "      <td>67.0</td>\n",
       "      <td>average</td>\n",
       "    </tr>\n",
       "    <tr>\n",
       "      <th>3</th>\n",
       "      <td>4915</td>\n",
       "      <td>62935</td>\n",
       "      <td>177676</td>\n",
       "      <td>1361061</td>\n",
       "      <td>2</td>\n",
       "      <td>12818495</td>\n",
       "      <td>4325</td>\n",
       "      <td>56.0</td>\n",
       "      <td>average</td>\n",
       "    </tr>\n",
       "    <tr>\n",
       "      <th>4</th>\n",
       "      <td>4915</td>\n",
       "      <td>62935</td>\n",
       "      <td>177676</td>\n",
       "      <td>1361061</td>\n",
       "      <td>2</td>\n",
       "      <td>12818495</td>\n",
       "      <td>4326</td>\n",
       "      <td>45.0</td>\n",
       "      <td>average</td>\n",
       "    </tr>\n",
       "  </tbody>\n",
       "</table>\n",
       "</div>"
      ],
      "text/plain": [
       "   task_response_id  match_id  evaluator_id  player_id  position_id  analysis_id  attribute_id  attribute_value potential_label\n",
       "0              4915     62935        177676    1361061            2     12818495          4322             56.0         average\n",
       "1              4915     62935        177676    1361061            2     12818495          4323             56.0         average\n",
       "2              4915     62935        177676    1361061            2     12818495          4324             67.0         average\n",
       "3              4915     62935        177676    1361061            2     12818495          4325             56.0         average\n",
       "4              4915     62935        177676    1361061            2     12818495          4326             45.0         average"
      ]
     },
     "execution_count": 5,
     "metadata": {},
     "output_type": "execute_result"
    }
   ],
   "source": [
    "# merge two dataframes om öultiple columns\n",
    "data = pd.merge(left= attributes, right= potential_labels, how= \"left\", on= [\"task_response_id\",  \"match_id\" , \"evaluator_id\" ,\"player_id\"])\n",
    "df = data.copy()\n",
    "df.head()\n"
   ]
  },
  {
   "cell_type": "markdown",
   "id": "31a19a4a",
   "metadata": {
    "papermill": {
     "duration": 0.011785,
     "end_time": "2022-08-15T19:51:37.336575",
     "exception": false,
     "start_time": "2022-08-15T19:51:37.324790",
     "status": "completed"
    },
    "tags": []
   },
   "source": [
    "### A Quick view of dataframe"
   ]
  },
  {
   "cell_type": "code",
   "execution_count": 6,
   "id": "9e06e846",
   "metadata": {
    "execution": {
     "iopub.execute_input": "2022-08-15T19:51:37.367331Z",
     "iopub.status.busy": "2022-08-15T19:51:37.366364Z",
     "iopub.status.idle": "2022-08-15T19:51:37.422215Z",
     "shell.execute_reply": "2022-08-15T19:51:37.420980Z"
    },
    "papermill": {
     "duration": 0.07634,
     "end_time": "2022-08-15T19:51:37.424843",
     "exception": false,
     "start_time": "2022-08-15T19:51:37.348503",
     "status": "completed"
    },
    "tags": []
   },
   "outputs": [
    {
     "name": "stdout",
     "output_type": "stream",
     "text": [
      "##################### Shape #####################\n",
      "(10730, 9)\n",
      "##################### Types #####################\n",
      "task_response_id      int64\n",
      "match_id              int64\n",
      "evaluator_id          int64\n",
      "player_id             int64\n",
      "position_id           int64\n",
      "analysis_id           int64\n",
      "attribute_id          int64\n",
      "attribute_value     float64\n",
      "potential_label      object\n",
      "dtype: object\n",
      "##################### Head #####################\n",
      "   task_response_id  match_id  evaluator_id  player_id  position_id  analysis_id  attribute_id  attribute_value potential_label\n",
      "0              4915     62935        177676    1361061            2     12818495          4322             56.0         average\n",
      "1              4915     62935        177676    1361061            2     12818495          4323             56.0         average\n",
      "2              4915     62935        177676    1361061            2     12818495          4324             67.0         average\n",
      "3              4915     62935        177676    1361061            2     12818495          4325             56.0         average\n",
      "4              4915     62935        177676    1361061            2     12818495          4326             45.0         average\n",
      "##################### Tail #####################\n",
      "       task_response_id  match_id  evaluator_id  player_id  position_id  analysis_id  attribute_id  attribute_value potential_label\n",
      "10725              5642     63032        151191    1909728            7     12825756          4357             67.0     highlighted\n",
      "10726              5642     63032        151191    1909728            7     12825756          4407             78.0     highlighted\n",
      "10727              5642     63032        151191    1909728            7     12825756          4408             67.0     highlighted\n",
      "10728              5642     63032        151191    1909728            7     12825756          4423             67.0     highlighted\n",
      "10729              5642     63032        151191    1909728            7     12825756          4426             78.0     highlighted\n",
      "##################### NA #####################\n",
      "task_response_id    0\n",
      "match_id            0\n",
      "evaluator_id        0\n",
      "player_id           0\n",
      "position_id         0\n",
      "analysis_id         0\n",
      "attribute_id        0\n",
      "attribute_value     0\n",
      "potential_label     0\n",
      "dtype: int64\n",
      "##################### Describe #####################\n",
      "                    count          mean            std         min          5%         10%         25%         50%         75%         95%         99%         max\n",
      "task_response_id  10730.0  5.252082e+03     268.254019      4915.0      4919.0      4929.0      4997.0      5162.0      5524.0      5639.0      5642.0      5642.0\n",
      "match_id          10730.0  6.319976e+04     663.916588     60549.0     61923.0     62935.0     62988.0     63166.0     63627.0     64045.0     64045.0     64045.0\n",
      "evaluator_id      10730.0  1.752469e+05   43667.459325    130478.0    132337.0    132337.0    151191.0    151191.0    177676.0    256441.0    256441.0    256441.0\n",
      "player_id         10730.0  1.525548e+06  201751.874865   1355710.0   1359357.0   1361221.0   1367783.0   1372670.0   1719053.0   1844969.0   1907347.0   1909728.0\n",
      "position_id       10730.0  5.347437e+00       2.861203         1.0         1.0         2.0         3.0         6.0         8.0        10.0        10.0        10.0\n",
      "analysis_id       10730.0  1.282239e+07    2676.865958  12818481.0  12818552.0  12818771.0  12819582.0  12822231.0  12825047.0  12825724.0  12825761.0  12825764.0\n",
      "attribute_id      10730.0  4.348609e+03      26.979985      4322.0      4323.0      4325.0      4330.0      4342.0      4353.0      4423.0      4426.0      4426.0\n",
      "attribute_value   10730.0  5.527111e+01      16.048040         1.0        23.0        34.0        45.0        56.0        67.0        78.0        78.0       100.0\n"
     ]
    }
   ],
   "source": [
    "def check_df(dataframe, head=5):\n",
    "    print(\"##################### Shape #####################\")\n",
    "    print(dataframe.shape)\n",
    "\n",
    "    print(\"##################### Types #####################\")\n",
    "    print(dataframe.dtypes)\n",
    "\n",
    "    print(\"##################### Head #####################\")\n",
    "    print(dataframe.head(head))\n",
    "\n",
    "    print(\"##################### Tail #####################\")\n",
    "    print(dataframe.tail(head))\n",
    "\n",
    "    print(\"##################### NA #####################\")\n",
    "    print(dataframe.isnull().sum())\n",
    "\n",
    "    print(\"##################### Describe #####################\")\n",
    "    print(dataframe.describe([0.05, 0.10, 0.25, 0.50, 0.75, 0.95, 0.99]).T)\n",
    "    \n",
    "check_df(df)"
   ]
  },
  {
   "cell_type": "code",
   "execution_count": 7,
   "id": "5f60ad9d",
   "metadata": {
    "execution": {
     "iopub.execute_input": "2022-08-15T19:51:37.449342Z",
     "iopub.status.busy": "2022-08-15T19:51:37.447583Z",
     "iopub.status.idle": "2022-08-15T19:51:37.468107Z",
     "shell.execute_reply": "2022-08-15T19:51:37.467211Z"
    },
    "papermill": {
     "duration": 0.037334,
     "end_time": "2022-08-15T19:51:37.471988",
     "exception": false,
     "start_time": "2022-08-15T19:51:37.434654",
     "status": "completed"
    },
    "tags": []
   },
   "outputs": [
    {
     "name": "stdout",
     "output_type": "stream",
     "text": [
      "Empty DataFrame\n",
      "Columns: [n_miss, ratio]\n",
      "Index: []\n"
     ]
    }
   ],
   "source": [
    "# checkin missing values\n",
    "def missing_values_table(dataframe, na_name=False):\n",
    "    na_columns = [col for col in dataframe.columns if dataframe[col].isnull().sum() > 0]\n",
    "    n_miss = dataframe[na_columns].isnull().sum().sort_values(ascending=False)\n",
    "    ratio = (dataframe[na_columns].isnull().sum() / dataframe.shape[0] * 100).sort_values(ascending=False)\n",
    "    missing_df = pd.concat([n_miss, np.round(ratio, 2)], axis=1, keys=['n_miss', 'ratio'])\n",
    "    print(missing_df, end=\"\\n\")\n",
    "    if na_name:\n",
    "        return na_columns\n",
    "\n",
    "missing_values_table(df)"
   ]
  },
  {
   "cell_type": "code",
   "execution_count": 8,
   "id": "0d1f5d37",
   "metadata": {
    "execution": {
     "iopub.execute_input": "2022-08-15T19:51:37.498073Z",
     "iopub.status.busy": "2022-08-15T19:51:37.497082Z",
     "iopub.status.idle": "2022-08-15T19:51:37.508617Z",
     "shell.execute_reply": "2022-08-15T19:51:37.507713Z"
    },
    "papermill": {
     "duration": 0.027182,
     "end_time": "2022-08-15T19:51:37.511500",
     "exception": false,
     "start_time": "2022-08-15T19:51:37.484318",
     "status": "completed"
    },
    "tags": []
   },
   "outputs": [
    {
     "data": {
      "text/plain": [
       "average          0.791892\n",
       "highlighted      0.195433\n",
       "below_average    0.012675\n",
       "Name: potential_label, dtype: float64"
      ]
     },
     "execution_count": 8,
     "metadata": {},
     "output_type": "execute_result"
    }
   ],
   "source": [
    "# below_average class that is %1 of entire dataset in potential_labels\n",
    "\n",
    "df.potential_label.value_counts() / len(df)"
   ]
  },
  {
   "cell_type": "code",
   "execution_count": 9,
   "id": "8b591276",
   "metadata": {
    "execution": {
     "iopub.execute_input": "2022-08-15T19:51:37.536081Z",
     "iopub.status.busy": "2022-08-15T19:51:37.535296Z",
     "iopub.status.idle": "2022-08-15T19:51:37.542534Z",
     "shell.execute_reply": "2022-08-15T19:51:37.541672Z"
    },
    "papermill": {
     "duration": 0.021028,
     "end_time": "2022-08-15T19:51:37.545000",
     "exception": false,
     "start_time": "2022-08-15T19:51:37.523972",
     "status": "completed"
    },
    "tags": []
   },
   "outputs": [],
   "source": [
    "# remove below_average class in potential_labels\n",
    "df = df[df[\"potential_label\"] != \"below_average\"]"
   ]
  },
  {
   "cell_type": "code",
   "execution_count": 10,
   "id": "44c82898",
   "metadata": {
    "execution": {
     "iopub.execute_input": "2022-08-15T19:51:37.567187Z",
     "iopub.status.busy": "2022-08-15T19:51:37.566433Z",
     "iopub.status.idle": "2022-08-15T19:51:37.573690Z",
     "shell.execute_reply": "2022-08-15T19:51:37.572836Z"
    },
    "papermill": {
     "duration": 0.021339,
     "end_time": "2022-08-15T19:51:37.576237",
     "exception": false,
     "start_time": "2022-08-15T19:51:37.554898",
     "status": "completed"
    },
    "tags": []
   },
   "outputs": [],
   "source": [
    "# remove posiiton_id 1 (Goalkeeper)\n",
    "df = df[df[\"position_id\"] > 1]"
   ]
  },
  {
   "cell_type": "code",
   "execution_count": 11,
   "id": "04863a4b",
   "metadata": {
    "execution": {
     "iopub.execute_input": "2022-08-15T19:51:37.597814Z",
     "iopub.status.busy": "2022-08-15T19:51:37.597393Z",
     "iopub.status.idle": "2022-08-15T19:51:37.604395Z",
     "shell.execute_reply": "2022-08-15T19:51:37.603190Z"
    },
    "papermill": {
     "duration": 0.020765,
     "end_time": "2022-08-15T19:51:37.606927",
     "exception": false,
     "start_time": "2022-08-15T19:51:37.586162",
     "status": "completed"
    },
    "tags": []
   },
   "outputs": [
    {
     "data": {
      "text/plain": [
       "(9894, 9)"
      ]
     },
     "execution_count": 11,
     "metadata": {},
     "output_type": "execute_result"
    }
   ],
   "source": [
    "df.shape"
   ]
  },
  {
   "cell_type": "code",
   "execution_count": 12,
   "id": "204a27ec",
   "metadata": {
    "execution": {
     "iopub.execute_input": "2022-08-15T19:51:37.629388Z",
     "iopub.status.busy": "2022-08-15T19:51:37.628542Z",
     "iopub.status.idle": "2022-08-15T19:51:37.642849Z",
     "shell.execute_reply": "2022-08-15T19:51:37.641536Z"
    },
    "papermill": {
     "duration": 0.028351,
     "end_time": "2022-08-15T19:51:37.645379",
     "exception": false,
     "start_time": "2022-08-15T19:51:37.617028",
     "status": "completed"
    },
    "tags": []
   },
   "outputs": [
    {
     "data": {
      "text/html": [
       "<div>\n",
       "<style scoped>\n",
       "    .dataframe tbody tr th:only-of-type {\n",
       "        vertical-align: middle;\n",
       "    }\n",
       "\n",
       "    .dataframe tbody tr th {\n",
       "        vertical-align: top;\n",
       "    }\n",
       "\n",
       "    .dataframe thead th {\n",
       "        text-align: right;\n",
       "    }\n",
       "</style>\n",
       "<table border=\"1\" class=\"dataframe\">\n",
       "  <thead>\n",
       "    <tr style=\"text-align: right;\">\n",
       "      <th></th>\n",
       "      <th>task_response_id</th>\n",
       "      <th>match_id</th>\n",
       "      <th>evaluator_id</th>\n",
       "      <th>player_id</th>\n",
       "      <th>position_id</th>\n",
       "      <th>analysis_id</th>\n",
       "      <th>attribute_id</th>\n",
       "      <th>attribute_value</th>\n",
       "      <th>potential_label</th>\n",
       "    </tr>\n",
       "  </thead>\n",
       "  <tbody>\n",
       "    <tr>\n",
       "      <th>0</th>\n",
       "      <td>4915</td>\n",
       "      <td>62935</td>\n",
       "      <td>177676</td>\n",
       "      <td>1361061</td>\n",
       "      <td>2</td>\n",
       "      <td>12818495</td>\n",
       "      <td>4322</td>\n",
       "      <td>56.0</td>\n",
       "      <td>average</td>\n",
       "    </tr>\n",
       "    <tr>\n",
       "      <th>1</th>\n",
       "      <td>4915</td>\n",
       "      <td>62935</td>\n",
       "      <td>177676</td>\n",
       "      <td>1361061</td>\n",
       "      <td>2</td>\n",
       "      <td>12818495</td>\n",
       "      <td>4323</td>\n",
       "      <td>56.0</td>\n",
       "      <td>average</td>\n",
       "    </tr>\n",
       "    <tr>\n",
       "      <th>2</th>\n",
       "      <td>4915</td>\n",
       "      <td>62935</td>\n",
       "      <td>177676</td>\n",
       "      <td>1361061</td>\n",
       "      <td>2</td>\n",
       "      <td>12818495</td>\n",
       "      <td>4324</td>\n",
       "      <td>67.0</td>\n",
       "      <td>average</td>\n",
       "    </tr>\n",
       "    <tr>\n",
       "      <th>3</th>\n",
       "      <td>4915</td>\n",
       "      <td>62935</td>\n",
       "      <td>177676</td>\n",
       "      <td>1361061</td>\n",
       "      <td>2</td>\n",
       "      <td>12818495</td>\n",
       "      <td>4325</td>\n",
       "      <td>56.0</td>\n",
       "      <td>average</td>\n",
       "    </tr>\n",
       "    <tr>\n",
       "      <th>4</th>\n",
       "      <td>4915</td>\n",
       "      <td>62935</td>\n",
       "      <td>177676</td>\n",
       "      <td>1361061</td>\n",
       "      <td>2</td>\n",
       "      <td>12818495</td>\n",
       "      <td>4326</td>\n",
       "      <td>45.0</td>\n",
       "      <td>average</td>\n",
       "    </tr>\n",
       "  </tbody>\n",
       "</table>\n",
       "</div>"
      ],
      "text/plain": [
       "   task_response_id  match_id  evaluator_id  player_id  position_id  analysis_id  attribute_id  attribute_value potential_label\n",
       "0              4915     62935        177676    1361061            2     12818495          4322             56.0         average\n",
       "1              4915     62935        177676    1361061            2     12818495          4323             56.0         average\n",
       "2              4915     62935        177676    1361061            2     12818495          4324             67.0         average\n",
       "3              4915     62935        177676    1361061            2     12818495          4325             56.0         average\n",
       "4              4915     62935        177676    1361061            2     12818495          4326             45.0         average"
      ]
     },
     "execution_count": 12,
     "metadata": {},
     "output_type": "execute_result"
    }
   ],
   "source": [
    "df.head()"
   ]
  },
  {
   "cell_type": "code",
   "execution_count": 13,
   "id": "92f4faef",
   "metadata": {
    "execution": {
     "iopub.execute_input": "2022-08-15T19:51:37.668509Z",
     "iopub.status.busy": "2022-08-15T19:51:37.667206Z",
     "iopub.status.idle": "2022-08-15T19:51:37.741047Z",
     "shell.execute_reply": "2022-08-15T19:51:37.739833Z"
    },
    "papermill": {
     "duration": 0.088063,
     "end_time": "2022-08-15T19:51:37.743635",
     "exception": false,
     "start_time": "2022-08-15T19:51:37.655572",
     "status": "completed"
    },
    "tags": []
   },
   "outputs": [
    {
     "data": {
      "text/html": [
       "<div>\n",
       "<style scoped>\n",
       "    .dataframe tbody tr th:only-of-type {\n",
       "        vertical-align: middle;\n",
       "    }\n",
       "\n",
       "    .dataframe tbody tr th {\n",
       "        vertical-align: top;\n",
       "    }\n",
       "\n",
       "    .dataframe thead th {\n",
       "        text-align: right;\n",
       "    }\n",
       "</style>\n",
       "<table border=\"1\" class=\"dataframe\">\n",
       "  <thead>\n",
       "    <tr style=\"text-align: right;\">\n",
       "      <th>attribute_id</th>\n",
       "      <th>player_id</th>\n",
       "      <th>position_id</th>\n",
       "      <th>potential_label</th>\n",
       "      <th>4322</th>\n",
       "      <th>4323</th>\n",
       "      <th>4324</th>\n",
       "      <th>4325</th>\n",
       "      <th>4326</th>\n",
       "      <th>4327</th>\n",
       "      <th>4328</th>\n",
       "      <th>4329</th>\n",
       "      <th>4330</th>\n",
       "      <th>4332</th>\n",
       "      <th>4333</th>\n",
       "      <th>4335</th>\n",
       "      <th>4338</th>\n",
       "      <th>4339</th>\n",
       "      <th>4340</th>\n",
       "      <th>4341</th>\n",
       "      <th>4342</th>\n",
       "      <th>4343</th>\n",
       "      <th>4344</th>\n",
       "      <th>4345</th>\n",
       "      <th>4348</th>\n",
       "      <th>4349</th>\n",
       "      <th>4350</th>\n",
       "      <th>4351</th>\n",
       "      <th>4352</th>\n",
       "      <th>4353</th>\n",
       "      <th>4354</th>\n",
       "      <th>4355</th>\n",
       "      <th>4356</th>\n",
       "      <th>4357</th>\n",
       "      <th>4407</th>\n",
       "      <th>4408</th>\n",
       "      <th>4423</th>\n",
       "      <th>4426</th>\n",
       "    </tr>\n",
       "  </thead>\n",
       "  <tbody>\n",
       "    <tr>\n",
       "      <th>0</th>\n",
       "      <td>1355710</td>\n",
       "      <td>7</td>\n",
       "      <td>average</td>\n",
       "      <td>50.5</td>\n",
       "      <td>50.5</td>\n",
       "      <td>34.0</td>\n",
       "      <td>50.5</td>\n",
       "      <td>45.0</td>\n",
       "      <td>45.0</td>\n",
       "      <td>45.0</td>\n",
       "      <td>45.0</td>\n",
       "      <td>50.5</td>\n",
       "      <td>56.0</td>\n",
       "      <td>39.5</td>\n",
       "      <td>34.0</td>\n",
       "      <td>39.5</td>\n",
       "      <td>39.5</td>\n",
       "      <td>45.0</td>\n",
       "      <td>45.0</td>\n",
       "      <td>50.5</td>\n",
       "      <td>28.5</td>\n",
       "      <td>23.0</td>\n",
       "      <td>39.5</td>\n",
       "      <td>28.5</td>\n",
       "      <td>28.5</td>\n",
       "      <td>45.0</td>\n",
       "      <td>50.5</td>\n",
       "      <td>56.0</td>\n",
       "      <td>34.0</td>\n",
       "      <td>39.5</td>\n",
       "      <td>50.5</td>\n",
       "      <td>34.0</td>\n",
       "      <td>34.0</td>\n",
       "      <td>56.0</td>\n",
       "      <td>34.0</td>\n",
       "      <td>34.0</td>\n",
       "      <td>56.0</td>\n",
       "    </tr>\n",
       "    <tr>\n",
       "      <th>1</th>\n",
       "      <td>1356362</td>\n",
       "      <td>9</td>\n",
       "      <td>average</td>\n",
       "      <td>67.0</td>\n",
       "      <td>67.0</td>\n",
       "      <td>67.0</td>\n",
       "      <td>67.0</td>\n",
       "      <td>67.0</td>\n",
       "      <td>67.0</td>\n",
       "      <td>67.0</td>\n",
       "      <td>67.0</td>\n",
       "      <td>67.0</td>\n",
       "      <td>67.0</td>\n",
       "      <td>67.0</td>\n",
       "      <td>67.0</td>\n",
       "      <td>67.0</td>\n",
       "      <td>67.0</td>\n",
       "      <td>67.0</td>\n",
       "      <td>67.0</td>\n",
       "      <td>67.0</td>\n",
       "      <td>67.0</td>\n",
       "      <td>56.0</td>\n",
       "      <td>67.0</td>\n",
       "      <td>67.0</td>\n",
       "      <td>56.0</td>\n",
       "      <td>67.0</td>\n",
       "      <td>67.0</td>\n",
       "      <td>67.0</td>\n",
       "      <td>67.0</td>\n",
       "      <td>78.0</td>\n",
       "      <td>67.0</td>\n",
       "      <td>67.0</td>\n",
       "      <td>67.0</td>\n",
       "      <td>67.0</td>\n",
       "      <td>67.0</td>\n",
       "      <td>56.0</td>\n",
       "      <td>78.0</td>\n",
       "    </tr>\n",
       "    <tr>\n",
       "      <th>2</th>\n",
       "      <td>1356375</td>\n",
       "      <td>3</td>\n",
       "      <td>average</td>\n",
       "      <td>67.0</td>\n",
       "      <td>67.0</td>\n",
       "      <td>67.0</td>\n",
       "      <td>67.0</td>\n",
       "      <td>67.0</td>\n",
       "      <td>67.0</td>\n",
       "      <td>67.0</td>\n",
       "      <td>78.0</td>\n",
       "      <td>67.0</td>\n",
       "      <td>67.0</td>\n",
       "      <td>78.0</td>\n",
       "      <td>56.0</td>\n",
       "      <td>67.0</td>\n",
       "      <td>67.0</td>\n",
       "      <td>67.0</td>\n",
       "      <td>67.0</td>\n",
       "      <td>67.0</td>\n",
       "      <td>56.0</td>\n",
       "      <td>56.0</td>\n",
       "      <td>67.0</td>\n",
       "      <td>67.0</td>\n",
       "      <td>56.0</td>\n",
       "      <td>56.0</td>\n",
       "      <td>67.0</td>\n",
       "      <td>67.0</td>\n",
       "      <td>67.0</td>\n",
       "      <td>78.0</td>\n",
       "      <td>67.0</td>\n",
       "      <td>67.0</td>\n",
       "      <td>67.0</td>\n",
       "      <td>67.0</td>\n",
       "      <td>67.0</td>\n",
       "      <td>56.0</td>\n",
       "      <td>78.0</td>\n",
       "    </tr>\n",
       "    <tr>\n",
       "      <th>3</th>\n",
       "      <td>1356375</td>\n",
       "      <td>4</td>\n",
       "      <td>average</td>\n",
       "      <td>67.0</td>\n",
       "      <td>78.0</td>\n",
       "      <td>67.0</td>\n",
       "      <td>67.0</td>\n",
       "      <td>67.0</td>\n",
       "      <td>78.0</td>\n",
       "      <td>78.0</td>\n",
       "      <td>78.0</td>\n",
       "      <td>56.0</td>\n",
       "      <td>67.0</td>\n",
       "      <td>67.0</td>\n",
       "      <td>67.0</td>\n",
       "      <td>78.0</td>\n",
       "      <td>78.0</td>\n",
       "      <td>56.0</td>\n",
       "      <td>67.0</td>\n",
       "      <td>67.0</td>\n",
       "      <td>45.0</td>\n",
       "      <td>45.0</td>\n",
       "      <td>56.0</td>\n",
       "      <td>67.0</td>\n",
       "      <td>67.0</td>\n",
       "      <td>67.0</td>\n",
       "      <td>67.0</td>\n",
       "      <td>78.0</td>\n",
       "      <td>67.0</td>\n",
       "      <td>67.0</td>\n",
       "      <td>67.0</td>\n",
       "      <td>56.0</td>\n",
       "      <td>67.0</td>\n",
       "      <td>56.0</td>\n",
       "      <td>67.0</td>\n",
       "      <td>45.0</td>\n",
       "      <td>56.0</td>\n",
       "    </tr>\n",
       "    <tr>\n",
       "      <th>4</th>\n",
       "      <td>1356411</td>\n",
       "      <td>9</td>\n",
       "      <td>average</td>\n",
       "      <td>67.0</td>\n",
       "      <td>67.0</td>\n",
       "      <td>78.0</td>\n",
       "      <td>78.0</td>\n",
       "      <td>67.0</td>\n",
       "      <td>67.0</td>\n",
       "      <td>67.0</td>\n",
       "      <td>67.0</td>\n",
       "      <td>89.0</td>\n",
       "      <td>78.0</td>\n",
       "      <td>67.0</td>\n",
       "      <td>67.0</td>\n",
       "      <td>67.0</td>\n",
       "      <td>56.0</td>\n",
       "      <td>56.0</td>\n",
       "      <td>67.0</td>\n",
       "      <td>78.0</td>\n",
       "      <td>56.0</td>\n",
       "      <td>56.0</td>\n",
       "      <td>67.0</td>\n",
       "      <td>56.0</td>\n",
       "      <td>67.0</td>\n",
       "      <td>56.0</td>\n",
       "      <td>67.0</td>\n",
       "      <td>67.0</td>\n",
       "      <td>56.0</td>\n",
       "      <td>67.0</td>\n",
       "      <td>67.0</td>\n",
       "      <td>56.0</td>\n",
       "      <td>67.0</td>\n",
       "      <td>89.0</td>\n",
       "      <td>56.0</td>\n",
       "      <td>67.0</td>\n",
       "      <td>78.0</td>\n",
       "    </tr>\n",
       "  </tbody>\n",
       "</table>\n",
       "</div>"
      ],
      "text/plain": [
       "attribute_id  player_id  position_id potential_label  4322  4323  4324  4325  4326  4327  4328  4329  4330  4332  4333  4335  4338  4339  4340  4341  4342  4343  4344  4345  4348  4349  4350  4351  4352  4353  4354  4355  4356  4357  4407  4408  4423  4426\n",
       "0               1355710            7         average  50.5  50.5  34.0  50.5  45.0  45.0  45.0  45.0  50.5  56.0  39.5  34.0  39.5  39.5  45.0  45.0  50.5  28.5  23.0  39.5  28.5  28.5  45.0  50.5  56.0  34.0  39.5  50.5  34.0  34.0  56.0  34.0  34.0  56.0\n",
       "1               1356362            9         average  67.0  67.0  67.0  67.0  67.0  67.0  67.0  67.0  67.0  67.0  67.0  67.0  67.0  67.0  67.0  67.0  67.0  67.0  56.0  67.0  67.0  56.0  67.0  67.0  67.0  67.0  78.0  67.0  67.0  67.0  67.0  67.0  56.0  78.0\n",
       "2               1356375            3         average  67.0  67.0  67.0  67.0  67.0  67.0  67.0  78.0  67.0  67.0  78.0  56.0  67.0  67.0  67.0  67.0  67.0  56.0  56.0  67.0  67.0  56.0  56.0  67.0  67.0  67.0  78.0  67.0  67.0  67.0  67.0  67.0  56.0  78.0\n",
       "3               1356375            4         average  67.0  78.0  67.0  67.0  67.0  78.0  78.0  78.0  56.0  67.0  67.0  67.0  78.0  78.0  56.0  67.0  67.0  45.0  45.0  56.0  67.0  67.0  67.0  67.0  78.0  67.0  67.0  67.0  56.0  67.0  56.0  67.0  45.0  56.0\n",
       "4               1356411            9         average  67.0  67.0  78.0  78.0  67.0  67.0  67.0  67.0  89.0  78.0  67.0  67.0  67.0  56.0  56.0  67.0  78.0  56.0  56.0  67.0  56.0  67.0  56.0  67.0  67.0  56.0  67.0  67.0  56.0  67.0  89.0  56.0  67.0  78.0"
      ]
     },
     "execution_count": 13,
     "metadata": {},
     "output_type": "execute_result"
    }
   ],
   "source": [
    "# re-formatting dataframe\n",
    "new_df = pd.pivot_table(data=df,\n",
    "                        index=['player_id','position_id','potential_label'],\n",
    "                        columns=['attribute_id'],\n",
    "                        values='attribute_value'\n",
    "                        )\n",
    "new_df = new_df.reset_index()\n",
    "new_df.head()"
   ]
  },
  {
   "cell_type": "markdown",
   "id": "9a41a2e5",
   "metadata": {
    "papermill": {
     "duration": 0.010098,
     "end_time": "2022-08-15T19:51:37.764651",
     "exception": false,
     "start_time": "2022-08-15T19:51:37.754553",
     "status": "completed"
    },
    "tags": []
   },
   "source": []
  },
  {
   "cell_type": "code",
   "execution_count": 14,
   "id": "3c17d4b5",
   "metadata": {
    "execution": {
     "iopub.execute_input": "2022-08-15T19:51:37.788910Z",
     "iopub.status.busy": "2022-08-15T19:51:37.788080Z",
     "iopub.status.idle": "2022-08-15T19:51:37.806935Z",
     "shell.execute_reply": "2022-08-15T19:51:37.805641Z"
    },
    "papermill": {
     "duration": 0.034442,
     "end_time": "2022-08-15T19:51:37.809700",
     "exception": false,
     "start_time": "2022-08-15T19:51:37.775258",
     "status": "completed"
    },
    "tags": []
   },
   "outputs": [
    {
     "name": "stdout",
     "output_type": "stream",
     "text": [
      "<class 'pandas.core.frame.DataFrame'>\n",
      "RangeIndex: 271 entries, 0 to 270\n",
      "Data columns (total 37 columns):\n",
      " #   Column           Non-Null Count  Dtype  \n",
      "---  ------           --------------  -----  \n",
      " 0   player_id        271 non-null    int64  \n",
      " 1   position_id      271 non-null    int64  \n",
      " 2   potential_label  271 non-null    object \n",
      " 3   4322             271 non-null    float64\n",
      " 4   4323             271 non-null    float64\n",
      " 5   4324             271 non-null    float64\n",
      " 6   4325             271 non-null    float64\n",
      " 7   4326             271 non-null    float64\n",
      " 8   4327             271 non-null    float64\n",
      " 9   4328             271 non-null    float64\n",
      " 10  4329             271 non-null    float64\n",
      " 11  4330             271 non-null    float64\n",
      " 12  4332             271 non-null    float64\n",
      " 13  4333             271 non-null    float64\n",
      " 14  4335             271 non-null    float64\n",
      " 15  4338             271 non-null    float64\n",
      " 16  4339             271 non-null    float64\n",
      " 17  4340             271 non-null    float64\n",
      " 18  4341             271 non-null    float64\n",
      " 19  4342             271 non-null    float64\n",
      " 20  4343             271 non-null    float64\n",
      " 21  4344             271 non-null    float64\n",
      " 22  4345             271 non-null    float64\n",
      " 23  4348             271 non-null    float64\n",
      " 24  4349             271 non-null    float64\n",
      " 25  4350             271 non-null    float64\n",
      " 26  4351             271 non-null    float64\n",
      " 27  4352             271 non-null    float64\n",
      " 28  4353             271 non-null    float64\n",
      " 29  4354             271 non-null    float64\n",
      " 30  4355             271 non-null    float64\n",
      " 31  4356             271 non-null    float64\n",
      " 32  4357             271 non-null    float64\n",
      " 33  4407             271 non-null    float64\n",
      " 34  4408             271 non-null    float64\n",
      " 35  4423             271 non-null    float64\n",
      " 36  4426             271 non-null    float64\n",
      "dtypes: float64(34), int64(2), object(1)\n",
      "memory usage: 78.5+ KB\n"
     ]
    }
   ],
   "source": [
    "# convert column names to str\n",
    "new_df.columns = new_df.columns.map(str)\n",
    "new_df.info()"
   ]
  },
  {
   "cell_type": "code",
   "execution_count": 15,
   "id": "f2e41b76",
   "metadata": {
    "execution": {
     "iopub.execute_input": "2022-08-15T19:51:37.834605Z",
     "iopub.status.busy": "2022-08-15T19:51:37.833758Z",
     "iopub.status.idle": "2022-08-15T19:51:37.845311Z",
     "shell.execute_reply": "2022-08-15T19:51:37.844188Z"
    },
    "papermill": {
     "duration": 0.026701,
     "end_time": "2022-08-15T19:51:37.847724",
     "exception": false,
     "start_time": "2022-08-15T19:51:37.821023",
     "status": "completed"
    },
    "tags": []
   },
   "outputs": [
    {
     "data": {
      "text/plain": [
       "24     1\n",
       "86     0\n",
       "193    0\n",
       "97     0\n",
       "175    0\n",
       "28     0\n",
       "230    0\n",
       "163    0\n",
       "126    0\n",
       "252    0\n",
       "Name: potential_label, dtype: int64"
      ]
     },
     "execution_count": 15,
     "metadata": {},
     "output_type": "execute_result"
    }
   ],
   "source": [
    "# encoding the target \n",
    "label_encoder = LabelEncoder()\n",
    "new_df.potential_label = label_encoder.fit_transform(new_df.potential_label)\n",
    "new_df.potential_label.sample(10)"
   ]
  },
  {
   "cell_type": "code",
   "execution_count": 16,
   "id": "5bce8575",
   "metadata": {
    "execution": {
     "iopub.execute_input": "2022-08-15T19:51:37.871603Z",
     "iopub.status.busy": "2022-08-15T19:51:37.870744Z",
     "iopub.status.idle": "2022-08-15T19:51:46.251136Z",
     "shell.execute_reply": "2022-08-15T19:51:46.249600Z"
    },
    "papermill": {
     "duration": 8.3955,
     "end_time": "2022-08-15T19:51:46.254083",
     "exception": false,
     "start_time": "2022-08-15T19:51:37.858583",
     "status": "completed"
    },
    "tags": []
   },
   "outputs": [
    {
     "name": "stdout",
     "output_type": "stream",
     "text": [
      "count    271.000000\n",
      "mean      58.367774\n",
      "std       14.526790\n",
      "min       23.000000\n",
      "5%        34.000000\n",
      "10%       34.000000\n",
      "20%       45.000000\n",
      "30%       56.000000\n",
      "40%       56.000000\n",
      "50%       56.000000\n",
      "60%       67.000000\n",
      "70%       67.000000\n",
      "80%       67.000000\n",
      "90%       78.000000\n",
      "95%       78.000000\n",
      "99%       78.000000\n",
      "max       89.000000\n",
      "Name: 4322, dtype: float64\n"
     ]
    },
    {
     "data": {
      "image/png": "[encoded data removed]",
      "text/plain": [
       "<Figure size 432x288 with 1 Axes>"
      ]
     },
     "metadata": {
      "needs_background": "light"
     },
     "output_type": "display_data"
    },
    {
     "name": "stdout",
     "output_type": "stream",
     "text": [
      "count    271.000000\n",
      "mean      58.739852\n",
      "std       14.757096\n",
      "min       23.000000\n",
      "5%        34.000000\n",
      "10%       34.000000\n",
      "20%       45.000000\n",
      "30%       45.000000\n",
      "40%       56.000000\n",
      "50%       56.000000\n",
      "60%       67.000000\n",
      "70%       67.000000\n",
      "80%       72.500000\n",
      "90%       78.000000\n",
      "95%       78.000000\n",
      "99%       78.000000\n",
      "max       89.000000\n",
      "Name: 4323, dtype: float64\n"
     ]
    },
    {
     "data": {
      "image/png": "[encoded data removed]",
      "text/plain": [
       "<Figure size 432x288 with 1 Axes>"
      ]
     },
     "metadata": {
      "needs_background": "light"
     },
     "output_type": "display_data"
    },
    {
     "name": "stdout",
     "output_type": "stream",
     "text": [
      "count    271.000000\n",
      "mean      56.250308\n",
      "std       15.868485\n",
      "min       23.000000\n",
      "5%        34.000000\n",
      "10%       34.000000\n",
      "20%       34.000000\n",
      "30%       45.000000\n",
      "40%       56.000000\n",
      "50%       56.000000\n",
      "60%       67.000000\n",
      "70%       67.000000\n",
      "80%       67.000000\n",
      "90%       78.000000\n",
      "95%       78.000000\n",
      "99%       78.000000\n",
      "max       78.000000\n",
      "Name: 4324, dtype: float64\n"
     ]
    },
    {
     "data": {
      "image/png": "[encoded data removed]",
      "text/plain": [
       "<Figure size 432x288 with 1 Axes>"
      ]
     },
     "metadata": {
      "needs_background": "light"
     },
     "output_type": "display_data"
    },
    {
     "name": "stdout",
     "output_type": "stream",
     "text": [
      "count    271.000000\n",
      "mean      56.947109\n",
      "std       14.749474\n",
      "min       12.000000\n",
      "5%        34.000000\n",
      "10%       34.000000\n",
      "20%       45.000000\n",
      "30%       45.000000\n",
      "40%       56.000000\n",
      "50%       61.500000\n",
      "60%       67.000000\n",
      "70%       67.000000\n",
      "80%       67.000000\n",
      "90%       78.000000\n",
      "95%       78.000000\n",
      "99%       78.000000\n",
      "max       89.000000\n",
      "Name: 4325, dtype: float64\n"
     ]
    },
    {
     "data": {
      "image/png": "[encoded data removed]",
      "text/plain": [
       "<Figure size 432x288 with 1 Axes>"
      ]
     },
     "metadata": {
      "needs_background": "light"
     },
     "output_type": "display_data"
    },
    {
     "name": "stdout",
     "output_type": "stream",
     "text": [
      "count    271.000000\n",
      "mean      56.324723\n",
      "std       14.799953\n",
      "min       23.000000\n",
      "5%        34.000000\n",
      "10%       34.000000\n",
      "20%       45.000000\n",
      "30%       45.000000\n",
      "40%       56.000000\n",
      "50%       61.500000\n",
      "60%       67.000000\n",
      "70%       67.000000\n",
      "80%       67.000000\n",
      "90%       67.000000\n",
      "95%       78.000000\n",
      "99%       78.000000\n",
      "max       89.000000\n",
      "Name: 4326, dtype: float64\n"
     ]
    },
    {
     "data": {
      "image/png": "[encoded data removed]",
      "text/plain": [
       "<Figure size 432x288 with 1 Axes>"
      ]
     },
     "metadata": {
      "needs_background": "light"
     },
     "output_type": "display_data"
    },
    {
     "name": "stdout",
     "output_type": "stream",
     "text": [
      "count    271.000000\n",
      "mean      56.520910\n",
      "std       14.522141\n",
      "min       23.000000\n",
      "5%        34.000000\n",
      "10%       34.000000\n",
      "20%       45.000000\n",
      "30%       45.000000\n",
      "40%       56.000000\n",
      "50%       56.000000\n",
      "60%       67.000000\n",
      "70%       67.000000\n",
      "80%       67.000000\n",
      "90%       78.000000\n",
      "95%       78.000000\n",
      "99%       78.000000\n",
      "max       78.000000\n",
      "Name: 4327, dtype: float64\n"
     ]
    },
    {
     "data": {
      "image/png": "[encoded data removed]",
      "text/plain": [
       "<Figure size 432x288 with 1 Axes>"
      ]
     },
     "metadata": {
      "needs_background": "light"
     },
     "output_type": "display_data"
    },
    {
     "name": "stdout",
     "output_type": "stream",
     "text": [
      "count    271.000000\n",
      "mean      58.232472\n",
      "std       14.610607\n",
      "min       23.000000\n",
      "5%        34.000000\n",
      "10%       34.000000\n",
      "20%       45.000000\n",
      "30%       45.000000\n",
      "40%       56.000000\n",
      "50%       56.000000\n",
      "60%       67.000000\n",
      "70%       67.000000\n",
      "80%       67.000000\n",
      "90%       78.000000\n",
      "95%       78.000000\n",
      "99%       78.000000\n",
      "max       89.000000\n",
      "Name: 4328, dtype: float64\n"
     ]
    },
    {
     "data": {
      "image/png": "[encoded data removed]",
      "text/plain": [
       "<Figure size 432x288 with 1 Axes>"
      ]
     },
     "metadata": {
      "needs_background": "light"
     },
     "output_type": "display_data"
    },
    {
     "name": "stdout",
     "output_type": "stream",
     "text": [
      "count    271.000000\n",
      "mean      59.565191\n",
      "std       18.433611\n",
      "min       12.000000\n",
      "5%        23.000000\n",
      "10%       34.000000\n",
      "20%       45.000000\n",
      "30%       45.000000\n",
      "40%       56.000000\n",
      "50%       67.000000\n",
      "60%       67.000000\n",
      "70%       78.000000\n",
      "80%       78.000000\n",
      "90%       78.000000\n",
      "95%       78.000000\n",
      "99%       78.000000\n",
      "max       89.000000\n",
      "Name: 4329, dtype: float64\n"
     ]
    },
    {
     "data": {
      "image/png": "[encoded data removed]",
      "text/plain": [
       "<Figure size 432x288 with 1 Axes>"
      ]
     },
     "metadata": {
      "needs_background": "light"
     },
     "output_type": "display_data"
    },
    {
     "name": "stdout",
     "output_type": "stream",
     "text": [
      "count    271.000000\n",
      "mean      56.771218\n",
      "std       14.076815\n",
      "min       23.000000\n",
      "5%        34.000000\n",
      "10%       34.000000\n",
      "20%       45.000000\n",
      "30%       56.000000\n",
      "40%       56.000000\n",
      "50%       61.500000\n",
      "60%       67.000000\n",
      "70%       67.000000\n",
      "80%       67.000000\n",
      "90%       67.000000\n",
      "95%       72.500000\n",
      "99%       78.000000\n",
      "max       89.000000\n",
      "Name: 4330, dtype: float64\n"
     ]
    },
    {
     "data": {
      "image/png": "[encoded data removed]",
      "text/plain": [
       "<Figure size 432x288 with 1 Axes>"
      ]
     },
     "metadata": {
      "needs_background": "light"
     },
     "output_type": "display_data"
    },
    {
     "name": "stdout",
     "output_type": "stream",
     "text": [
      "count    271.000000\n",
      "mean      57.657442\n",
      "std       13.542010\n",
      "min       23.000000\n",
      "5%        34.000000\n",
      "10%       34.000000\n",
      "20%       45.000000\n",
      "30%       56.000000\n",
      "40%       56.000000\n",
      "50%       61.500000\n",
      "60%       67.000000\n",
      "70%       67.000000\n",
      "80%       67.000000\n",
      "90%       67.000000\n",
      "95%       78.000000\n",
      "99%       78.000000\n",
      "max       89.000000\n",
      "Name: 4332, dtype: float64\n"
     ]
    },
    {
     "data": {
      "image/png": "[encoded data removed]",
      "text/plain": [
       "<Figure size 432x288 with 1 Axes>"
      ]
     },
     "metadata": {
      "needs_background": "light"
     },
     "output_type": "display_data"
    },
    {
     "name": "stdout",
     "output_type": "stream",
     "text": [
      "count    271.000000\n",
      "mean      59.497540\n",
      "std       16.369983\n",
      "min       23.000000\n",
      "5%        34.000000\n",
      "10%       34.000000\n",
      "20%       45.000000\n",
      "30%       56.000000\n",
      "40%       56.000000\n",
      "50%       67.000000\n",
      "60%       67.000000\n",
      "70%       72.500000\n",
      "80%       78.000000\n",
      "90%       78.000000\n",
      "95%       78.000000\n",
      "99%       78.000000\n",
      "max       78.000000\n",
      "Name: 4333, dtype: float64\n"
     ]
    },
    {
     "data": {
      "image/png": "[encoded data removed]",
      "text/plain": [
       "<Figure size 432x288 with 1 Axes>"
      ]
     },
     "metadata": {
      "needs_background": "light"
     },
     "output_type": "display_data"
    },
    {
     "name": "stdout",
     "output_type": "stream",
     "text": [
      "count    271.000000\n",
      "mean      50.817958\n",
      "std       16.269353\n",
      "min       12.000000\n",
      "5%        23.000000\n",
      "10%       34.000000\n",
      "20%       34.000000\n",
      "30%       34.000000\n",
      "40%       45.000000\n",
      "50%       56.000000\n",
      "60%       56.000000\n",
      "70%       67.000000\n",
      "80%       67.000000\n",
      "90%       67.000000\n",
      "95%       67.000000\n",
      "99%       78.000000\n",
      "max       89.000000\n",
      "Name: 4335, dtype: float64\n"
     ]
    },
    {
     "data": {
      "image/png": "[encoded data removed]",
      "text/plain": [
       "<Figure size 432x288 with 1 Axes>"
      ]
     },
     "metadata": {
      "needs_background": "light"
     },
     "output_type": "display_data"
    },
    {
     "name": "stdout",
     "output_type": "stream",
     "text": [
      "count    271.000000\n",
      "mean      57.116236\n",
      "std       15.670577\n",
      "min       23.000000\n",
      "5%        34.000000\n",
      "10%       34.000000\n",
      "20%       45.000000\n",
      "30%       45.000000\n",
      "40%       56.000000\n",
      "50%       56.000000\n",
      "60%       67.000000\n",
      "70%       67.000000\n",
      "80%       67.000000\n",
      "90%       78.000000\n",
      "95%       78.000000\n",
      "99%       78.000000\n",
      "max       78.000000\n",
      "Name: 4338, dtype: float64\n"
     ]
    },
    {
     "data": {
      "image/png": "[encoded data removed]",
      "text/plain": [
       "<Figure size 432x288 with 1 Axes>"
      ]
     },
     "metadata": {
      "needs_background": "light"
     },
     "output_type": "display_data"
    },
    {
     "name": "stdout",
     "output_type": "stream",
     "text": [
      "count    271.000000\n",
      "mean      54.504920\n",
      "std       14.894394\n",
      "min       23.000000\n",
      "5%        28.500000\n",
      "10%       34.000000\n",
      "20%       45.000000\n",
      "30%       45.000000\n",
      "40%       56.000000\n",
      "50%       56.000000\n",
      "60%       67.000000\n",
      "70%       67.000000\n",
      "80%       67.000000\n",
      "90%       67.000000\n",
      "95%       78.000000\n",
      "99%       78.000000\n",
      "max       89.000000\n",
      "Name: 4339, dtype: float64\n"
     ]
    },
    {
     "data": {
      "image/png": "[encoded data removed]",
      "text/plain": [
       "<Figure size 432x288 with 1 Axes>"
      ]
     },
     "metadata": {
      "needs_background": "light"
     },
     "output_type": "display_data"
    },
    {
     "name": "stdout",
     "output_type": "stream",
     "text": [
      "count    271.000000\n",
      "mean      53.199262\n",
      "std       15.161445\n",
      "min       12.000000\n",
      "5%        23.000000\n",
      "10%       34.000000\n",
      "20%       34.000000\n",
      "30%       45.000000\n",
      "40%       45.000000\n",
      "50%       56.000000\n",
      "60%       67.000000\n",
      "70%       67.000000\n",
      "80%       67.000000\n",
      "90%       67.000000\n",
      "95%       67.000000\n",
      "99%       78.000000\n",
      "max       78.000000\n",
      "Name: 4340, dtype: float64\n"
     ]
    },
    {
     "data": {
      "image/png": "[encoded data removed]",
      "text/plain": [
       "<Figure size 432x288 with 1 Axes>"
      ]
     },
     "metadata": {
      "needs_background": "light"
     },
     "output_type": "display_data"
    },
    {
     "name": "stdout",
     "output_type": "stream",
     "text": [
      "count    271.000000\n",
      "mean      55.194957\n",
      "std       14.794589\n",
      "min       23.000000\n",
      "5%        34.000000\n",
      "10%       34.000000\n",
      "20%       45.000000\n",
      "30%       45.000000\n",
      "40%       56.000000\n",
      "50%       56.000000\n",
      "60%       67.000000\n",
      "70%       67.000000\n",
      "80%       67.000000\n",
      "90%       67.000000\n",
      "95%       78.000000\n",
      "99%       78.000000\n",
      "max       89.000000\n",
      "Name: 4341, dtype: float64\n"
     ]
    },
    {
     "data": {
      "image/png": "[encoded data removed]",
      "text/plain": [
       "<Figure size 432x288 with 1 Axes>"
      ]
     },
     "metadata": {
      "needs_background": "light"
     },
     "output_type": "display_data"
    },
    {
     "name": "stdout",
     "output_type": "stream",
     "text": [
      "count    271.000000\n",
      "mean      58.361009\n",
      "std       14.718160\n",
      "min       23.000000\n",
      "5%        34.000000\n",
      "10%       34.000000\n",
      "20%       45.000000\n",
      "30%       45.000000\n",
      "40%       56.000000\n",
      "50%       67.000000\n",
      "60%       67.000000\n",
      "70%       67.000000\n",
      "80%       67.000000\n",
      "90%       78.000000\n",
      "95%       78.000000\n",
      "99%       78.000000\n",
      "max       89.000000\n",
      "Name: 4342, dtype: float64\n"
     ]
    },
    {
     "data": {
      "image/png": "[encoded data removed]",
      "text/plain": [
       "<Figure size 432x288 with 1 Axes>"
      ]
     },
     "metadata": {
      "needs_background": "light"
     },
     "output_type": "display_data"
    },
    {
     "name": "stdout",
     "output_type": "stream",
     "text": [
      "count    271.000000\n",
      "mean      46.386839\n",
      "std       16.790151\n",
      "min       12.000000\n",
      "5%        23.000000\n",
      "10%       23.000000\n",
      "20%       23.000000\n",
      "30%       34.000000\n",
      "40%       45.000000\n",
      "50%       45.000000\n",
      "60%       56.000000\n",
      "70%       56.000000\n",
      "80%       67.000000\n",
      "90%       67.000000\n",
      "95%       67.000000\n",
      "99%       74.150000\n",
      "max       89.000000\n",
      "Name: 4343, dtype: float64\n"
     ]
    },
    {
     "data": {
      "image/png": "[encoded data removed]",
      "text/plain": [
       "<Figure size 432x288 with 1 Axes>"
      ]
     },
     "metadata": {
      "needs_background": "light"
     },
     "output_type": "display_data"
    },
    {
     "name": "stdout",
     "output_type": "stream",
     "text": [
      "count    271.000000\n",
      "mean      43.349323\n",
      "std       16.909239\n",
      "min       12.000000\n",
      "5%        23.000000\n",
      "10%       23.000000\n",
      "20%       23.000000\n",
      "30%       34.000000\n",
      "40%       34.000000\n",
      "50%       45.000000\n",
      "60%       56.000000\n",
      "70%       56.000000\n",
      "80%       56.000000\n",
      "90%       56.000000\n",
      "95%       67.000000\n",
      "99%       78.000000\n",
      "max      100.000000\n",
      "Name: 4344, dtype: float64\n"
     ]
    },
    {
     "data": {
      "image/png": "[encoded data removed]",
      "text/plain": [
       "<Figure size 432x288 with 1 Axes>"
      ]
     },
     "metadata": {
      "needs_background": "light"
     },
     "output_type": "display_data"
    },
    {
     "name": "stdout",
     "output_type": "stream",
     "text": [
      "count    271.000000\n",
      "mean      55.316728\n",
      "std       15.768308\n",
      "min       23.000000\n",
      "5%        28.500000\n",
      "10%       34.000000\n",
      "20%       34.000000\n",
      "30%       45.000000\n",
      "40%       56.000000\n",
      "50%       56.000000\n",
      "60%       67.000000\n",
      "70%       67.000000\n",
      "80%       67.000000\n",
      "90%       67.000000\n",
      "95%       78.000000\n",
      "99%       78.000000\n",
      "max       83.500000\n",
      "Name: 4345, dtype: float64\n"
     ]
    },
    {
     "data": {
      "image/png": "[encoded data removed]",
      "text/plain": [
       "<Figure size 432x288 with 1 Axes>"
      ]
     },
     "metadata": {
      "needs_background": "light"
     },
     "output_type": "display_data"
    },
    {
     "name": "stdout",
     "output_type": "stream",
     "text": [
      "count    271.000000\n",
      "mean      51.568881\n",
      "std       17.591752\n",
      "min       12.000000\n",
      "5%        23.000000\n",
      "10%       23.000000\n",
      "20%       34.000000\n",
      "30%       34.000000\n",
      "40%       45.000000\n",
      "50%       56.000000\n",
      "60%       61.500000\n",
      "70%       67.000000\n",
      "80%       67.000000\n",
      "90%       67.000000\n",
      "95%       78.000000\n",
      "99%       78.000000\n",
      "max       89.000000\n",
      "Name: 4348, dtype: float64\n"
     ]
    },
    {
     "data": {
      "image/png": "[encoded data removed]",
      "text/plain": [
       "<Figure size 432x288 with 1 Axes>"
      ]
     },
     "metadata": {
      "needs_background": "light"
     },
     "output_type": "display_data"
    },
    {
     "name": "stdout",
     "output_type": "stream",
     "text": [
      "count    271.000000\n",
      "mean      45.236777\n",
      "std       16.095356\n",
      "min       12.000000\n",
      "5%        23.000000\n",
      "10%       23.000000\n",
      "20%       23.000000\n",
      "30%       34.000000\n",
      "40%       45.000000\n",
      "50%       45.000000\n",
      "60%       56.000000\n",
      "70%       56.000000\n",
      "80%       56.000000\n",
      "90%       67.000000\n",
      "95%       67.000000\n",
      "99%       78.000000\n",
      "max       89.000000\n",
      "Name: 4349, dtype: float64\n"
     ]
    },
    {
     "data": {
      "image/png": "[encoded data removed]",
      "text/plain": [
       "<Figure size 432x288 with 1 Axes>"
      ]
     },
     "metadata": {
      "needs_background": "light"
     },
     "output_type": "display_data"
    },
    {
     "name": "stdout",
     "output_type": "stream",
     "text": [
      "count    271.000000\n",
      "mean      54.897294\n",
      "std       14.302681\n",
      "min       12.000000\n",
      "5%        34.000000\n",
      "10%       34.000000\n",
      "20%       45.000000\n",
      "30%       45.000000\n",
      "40%       56.000000\n",
      "50%       56.000000\n",
      "60%       67.000000\n",
      "70%       67.000000\n",
      "80%       67.000000\n",
      "90%       67.000000\n",
      "95%       67.000000\n",
      "99%       78.000000\n",
      "max       78.000000\n",
      "Name: 4350, dtype: float64\n"
     ]
    },
    {
     "data": {
      "image/png": "[encoded data removed]",
      "text/plain": [
       "<Figure size 432x288 with 1 Axes>"
      ]
     },
     "metadata": {
      "needs_background": "light"
     },
     "output_type": "display_data"
    },
    {
     "name": "stdout",
     "output_type": "stream",
     "text": [
      "count    271.000000\n",
      "mean      56.737392\n",
      "std       14.344484\n",
      "min       12.000000\n",
      "5%        34.000000\n",
      "10%       34.000000\n",
      "20%       45.000000\n",
      "30%       45.000000\n",
      "40%       56.000000\n",
      "50%       56.000000\n",
      "60%       67.000000\n",
      "70%       67.000000\n",
      "80%       67.000000\n",
      "90%       67.000000\n",
      "95%       78.000000\n",
      "99%       78.000000\n",
      "max      100.000000\n",
      "Name: 4351, dtype: float64\n"
     ]
    },
    {
     "data": {
      "image/png": "[encoded data removed]",
      "text/plain": [
       "<Figure size 432x288 with 1 Axes>"
      ]
     },
     "metadata": {
      "needs_background": "light"
     },
     "output_type": "display_data"
    },
    {
     "name": "stdout",
     "output_type": "stream",
     "text": [
      "count    271.000000\n",
      "mean      55.817343\n",
      "std       14.243089\n",
      "min       12.000000\n",
      "5%        34.000000\n",
      "10%       34.000000\n",
      "20%       45.000000\n",
      "30%       45.000000\n",
      "40%       56.000000\n",
      "50%       56.000000\n",
      "60%       67.000000\n",
      "70%       67.000000\n",
      "80%       67.000000\n",
      "90%       67.000000\n",
      "95%       67.000000\n",
      "99%       78.000000\n",
      "max       78.000000\n",
      "Name: 4352, dtype: float64\n"
     ]
    },
    {
     "data": {
      "image/png": "[encoded data removed]",
      "text/plain": [
       "<Figure size 432x288 with 1 Axes>"
      ]
     },
     "metadata": {
      "needs_background": "light"
     },
     "output_type": "display_data"
    },
    {
     "name": "stdout",
     "output_type": "stream",
     "text": [
      "count    271.000000\n",
      "mean      54.186962\n",
      "std       15.776835\n",
      "min       12.000000\n",
      "5%        34.000000\n",
      "10%       34.000000\n",
      "20%       34.000000\n",
      "30%       45.000000\n",
      "40%       45.000000\n",
      "50%       56.000000\n",
      "60%       67.000000\n",
      "70%       67.000000\n",
      "80%       67.000000\n",
      "90%       67.000000\n",
      "95%       78.000000\n",
      "99%       78.000000\n",
      "max       78.000000\n",
      "Name: 4353, dtype: float64\n"
     ]
    },
    {
     "data": {
      "image/png": "[encoded data removed]",
      "text/plain": [
       "<Figure size 432x288 with 1 Axes>"
      ]
     },
     "metadata": {
      "needs_background": "light"
     },
     "output_type": "display_data"
    },
    {
     "name": "stdout",
     "output_type": "stream",
     "text": [
      "count    271.000000\n",
      "mean      59.450185\n",
      "std       17.652623\n",
      "min       12.000000\n",
      "5%        34.000000\n",
      "10%       34.000000\n",
      "20%       45.000000\n",
      "30%       45.000000\n",
      "40%       56.000000\n",
      "50%       56.000000\n",
      "60%       67.000000\n",
      "70%       78.000000\n",
      "80%       78.000000\n",
      "90%       78.000000\n",
      "95%       78.000000\n",
      "99%       78.000000\n",
      "max       78.000000\n",
      "Name: 4354, dtype: float64\n"
     ]
    },
    {
     "data": {
      "image/png": "[encoded data removed]",
      "text/plain": [
       "<Figure size 432x288 with 1 Axes>"
      ]
     },
     "metadata": {
      "needs_background": "light"
     },
     "output_type": "display_data"
    },
    {
     "name": "stdout",
     "output_type": "stream",
     "text": [
      "count    271.000000\n",
      "mean      57.745387\n",
      "std       14.677008\n",
      "min       12.000000\n",
      "5%        34.000000\n",
      "10%       34.000000\n",
      "20%       45.000000\n",
      "30%       45.000000\n",
      "40%       56.000000\n",
      "50%       56.000000\n",
      "60%       67.000000\n",
      "70%       67.000000\n",
      "80%       67.000000\n",
      "90%       78.000000\n",
      "95%       78.000000\n",
      "99%       78.000000\n",
      "max       89.000000\n",
      "Name: 4355, dtype: float64\n"
     ]
    },
    {
     "data": {
      "image/png": "[encoded data removed]",
      "text/plain": [
       "<Figure size 432x288 with 1 Axes>"
      ]
     },
     "metadata": {
      "needs_background": "light"
     },
     "output_type": "display_data"
    },
    {
     "name": "stdout",
     "output_type": "stream",
     "text": [
      "count    271.000000\n",
      "mean      52.955720\n",
      "std       15.378794\n",
      "min       23.000000\n",
      "5%        23.000000\n",
      "10%       34.000000\n",
      "20%       34.000000\n",
      "30%       45.000000\n",
      "40%       45.000000\n",
      "50%       56.000000\n",
      "60%       67.000000\n",
      "70%       67.000000\n",
      "80%       67.000000\n",
      "90%       67.000000\n",
      "95%       67.000000\n",
      "99%       78.000000\n",
      "max       78.000000\n",
      "Name: 4356, dtype: float64\n"
     ]
    },
    {
     "data": {
      "image/png": "[encoded data removed]",
      "text/plain": [
       "<Figure size 432x288 with 1 Axes>"
      ]
     },
     "metadata": {
      "needs_background": "light"
     },
     "output_type": "display_data"
    },
    {
     "name": "stdout",
     "output_type": "stream",
     "text": [
      "count    271.000000\n",
      "mean      55.918819\n",
      "std       14.450966\n",
      "min       23.000000\n",
      "5%        34.000000\n",
      "10%       34.000000\n",
      "20%       45.000000\n",
      "30%       45.000000\n",
      "40%       56.000000\n",
      "50%       67.000000\n",
      "60%       67.000000\n",
      "70%       67.000000\n",
      "80%       67.000000\n",
      "90%       67.000000\n",
      "95%       72.500000\n",
      "99%       78.000000\n",
      "max       78.000000\n",
      "Name: 4357, dtype: float64\n"
     ]
    },
    {
     "data": {
      "image/png": "[encoded data removed]",
      "text/plain": [
       "<Figure size 432x288 with 1 Axes>"
      ]
     },
     "metadata": {
      "needs_background": "light"
     },
     "output_type": "display_data"
    },
    {
     "name": "stdout",
     "output_type": "stream",
     "text": [
      "count    271.000000\n",
      "mean      58.333948\n",
      "std       16.391679\n",
      "min        1.000000\n",
      "5%        28.500000\n",
      "10%       34.000000\n",
      "20%       45.000000\n",
      "30%       56.000000\n",
      "40%       56.000000\n",
      "50%       67.000000\n",
      "60%       67.000000\n",
      "70%       67.000000\n",
      "80%       67.000000\n",
      "90%       78.000000\n",
      "95%       78.000000\n",
      "99%       89.000000\n",
      "max      100.000000\n",
      "Name: 4407, dtype: float64\n"
     ]
    },
    {
     "data": {
      "image/png": "[encoded data removed]",
      "text/plain": [
       "<Figure size 432x288 with 1 Axes>"
      ]
     },
     "metadata": {
      "needs_background": "light"
     },
     "output_type": "display_data"
    },
    {
     "name": "stdout",
     "output_type": "stream",
     "text": [
      "count    271.000000\n",
      "mean      56.764453\n",
      "std       15.334661\n",
      "min       12.000000\n",
      "5%        34.000000\n",
      "10%       34.000000\n",
      "20%       45.000000\n",
      "30%       45.000000\n",
      "40%       56.000000\n",
      "50%       56.000000\n",
      "60%       67.000000\n",
      "70%       67.000000\n",
      "80%       67.000000\n",
      "90%       78.000000\n",
      "95%       78.000000\n",
      "99%       78.000000\n",
      "max       89.000000\n",
      "Name: 4408, dtype: float64\n"
     ]
    },
    {
     "data": {
      "image/png": "[encoded data removed]",
      "text/plain": [
       "<Figure size 432x288 with 1 Axes>"
      ]
     },
     "metadata": {
      "needs_background": "light"
     },
     "output_type": "display_data"
    },
    {
     "name": "stdout",
     "output_type": "stream",
     "text": [
      "count    271.000000\n",
      "mean      49.464945\n",
      "std       16.217151\n",
      "min       23.000000\n",
      "5%        23.000000\n",
      "10%       23.000000\n",
      "20%       34.000000\n",
      "30%       34.000000\n",
      "40%       45.000000\n",
      "50%       56.000000\n",
      "60%       56.000000\n",
      "70%       67.000000\n",
      "80%       67.000000\n",
      "90%       67.000000\n",
      "95%       67.000000\n",
      "99%       78.000000\n",
      "max       78.000000\n",
      "Name: 4423, dtype: float64\n"
     ]
    },
    {
     "data": {
      "image/png": "[encoded data removed]",
      "text/plain": [
       "<Figure size 432x288 with 1 Axes>"
      ]
     },
     "metadata": {
      "needs_background": "light"
     },
     "output_type": "display_data"
    },
    {
     "name": "stdout",
     "output_type": "stream",
     "text": [
      "count    271.000000\n",
      "mean      60.295818\n",
      "std       17.028369\n",
      "min       23.000000\n",
      "5%        34.000000\n",
      "10%       34.000000\n",
      "20%       45.000000\n",
      "30%       50.500000\n",
      "40%       56.000000\n",
      "50%       61.500000\n",
      "60%       67.000000\n",
      "70%       78.000000\n",
      "80%       78.000000\n",
      "90%       78.000000\n",
      "95%       78.000000\n",
      "99%       78.000000\n",
      "max       89.000000\n",
      "Name: 4426, dtype: float64\n"
     ]
    },
    {
     "data": {
      "image/png": "[encoded data removed]",
      "text/plain": [
       "<Figure size 432x288 with 1 Axes>"
      ]
     },
     "metadata": {
      "needs_background": "light"
     },
     "output_type": "display_data"
    }
   ],
   "source": [
    "num_cols = new_df.columns[3:]\n",
    "def num_summary(dataframe, numerical_col, plot=False):\n",
    "\n",
    "    quantiles = [0.05, 0.10, 0.20, 0.30, 0.40, 0.50, 0.60, 0.70, 0.80, 0.90, 0.95, 0.99]\n",
    "\n",
    "    print(dataframe[numerical_col].describe(quantiles).T)\n",
    "\n",
    "    if plot:\n",
    "        dataframe[numerical_col].hist(bins=20)\n",
    "        plt.xlabel(numerical_col)\n",
    "        plt.title(numerical_col)\n",
    "        plt.show()\n",
    "\n",
    "for col in num_cols:\n",
    "    num_summary(new_df, col, plot=True)"
   ]
  },
  {
   "cell_type": "code",
   "execution_count": 17,
   "id": "21b6c71a",
   "metadata": {
    "execution": {
     "iopub.execute_input": "2022-08-15T19:51:46.299645Z",
     "iopub.status.busy": "2022-08-15T19:51:46.299247Z",
     "iopub.status.idle": "2022-08-15T19:51:46.305137Z",
     "shell.execute_reply": "2022-08-15T19:51:46.304347Z"
    },
    "papermill": {
     "duration": 0.030185,
     "end_time": "2022-08-15T19:51:46.307484",
     "exception": false,
     "start_time": "2022-08-15T19:51:46.277299",
     "status": "completed"
    },
    "tags": []
   },
   "outputs": [
    {
     "data": {
      "text/plain": [
       "(271, 37)"
      ]
     },
     "execution_count": 17,
     "metadata": {},
     "output_type": "execute_result"
    }
   ],
   "source": [
    "new_df.shape"
   ]
  },
  {
   "cell_type": "code",
   "execution_count": 18,
   "id": "a32f883a",
   "metadata": {
    "execution": {
     "iopub.execute_input": "2022-08-15T19:51:46.351312Z",
     "iopub.status.busy": "2022-08-15T19:51:46.350892Z",
     "iopub.status.idle": "2022-08-15T19:51:46.392506Z",
     "shell.execute_reply": "2022-08-15T19:51:46.391660Z"
    },
    "papermill": {
     "duration": 0.066175,
     "end_time": "2022-08-15T19:51:46.394870",
     "exception": false,
     "start_time": "2022-08-15T19:51:46.328695",
     "status": "completed"
    },
    "tags": []
   },
   "outputs": [
    {
     "data": {
      "text/html": [
       "<div>\n",
       "<style scoped>\n",
       "    .dataframe tbody tr th:only-of-type {\n",
       "        vertical-align: middle;\n",
       "    }\n",
       "\n",
       "    .dataframe tbody tr th {\n",
       "        vertical-align: top;\n",
       "    }\n",
       "\n",
       "    .dataframe thead th {\n",
       "        text-align: right;\n",
       "    }\n",
       "</style>\n",
       "<table border=\"1\" class=\"dataframe\">\n",
       "  <thead>\n",
       "    <tr style=\"text-align: right;\">\n",
       "      <th>attribute_id</th>\n",
       "      <th>player_id</th>\n",
       "      <th>position_id</th>\n",
       "      <th>potential_label</th>\n",
       "      <th>4322</th>\n",
       "      <th>4323</th>\n",
       "      <th>4324</th>\n",
       "      <th>4325</th>\n",
       "      <th>4326</th>\n",
       "      <th>4327</th>\n",
       "      <th>4328</th>\n",
       "      <th>4329</th>\n",
       "      <th>4330</th>\n",
       "      <th>4332</th>\n",
       "      <th>4333</th>\n",
       "      <th>4335</th>\n",
       "      <th>4338</th>\n",
       "      <th>4339</th>\n",
       "      <th>4340</th>\n",
       "      <th>4341</th>\n",
       "      <th>4342</th>\n",
       "      <th>4343</th>\n",
       "      <th>4344</th>\n",
       "      <th>4345</th>\n",
       "      <th>4348</th>\n",
       "      <th>4349</th>\n",
       "      <th>4350</th>\n",
       "      <th>4351</th>\n",
       "      <th>4352</th>\n",
       "      <th>4353</th>\n",
       "      <th>4354</th>\n",
       "      <th>4355</th>\n",
       "      <th>4356</th>\n",
       "      <th>4357</th>\n",
       "      <th>4407</th>\n",
       "      <th>4408</th>\n",
       "      <th>4423</th>\n",
       "      <th>4426</th>\n",
       "    </tr>\n",
       "  </thead>\n",
       "  <tbody>\n",
       "    <tr>\n",
       "      <th>0</th>\n",
       "      <td>1355710</td>\n",
       "      <td>7</td>\n",
       "      <td>0</td>\n",
       "      <td>-0.542606</td>\n",
       "      <td>-0.559398</td>\n",
       "      <td>-1.404764</td>\n",
       "      <td>-0.437916</td>\n",
       "      <td>-0.766602</td>\n",
       "      <td>-0.794802</td>\n",
       "      <td>-0.907351</td>\n",
       "      <td>-0.791605</td>\n",
       "      <td>-0.446324</td>\n",
       "      <td>-0.122619</td>\n",
       "      <td>-1.223858</td>\n",
       "      <td>-1.035633</td>\n",
       "      <td>-1.126240</td>\n",
       "      <td>-1.009285</td>\n",
       "      <td>-0.541797</td>\n",
       "      <td>-0.690375</td>\n",
       "      <td>-0.535091</td>\n",
       "      <td>-1.067288</td>\n",
       "      <td>-1.205671</td>\n",
       "      <td>-1.004927</td>\n",
       "      <td>-1.313773</td>\n",
       "      <td>-1.041775</td>\n",
       "      <td>-0.693269</td>\n",
       "      <td>-0.435633</td>\n",
       "      <td>0.012848</td>\n",
       "      <td>-1.281899</td>\n",
       "      <td>-1.132245</td>\n",
       "      <td>-0.494569</td>\n",
       "      <td>-1.234869</td>\n",
       "      <td>-1.519578</td>\n",
       "      <td>-0.142650</td>\n",
       "      <td>-1.487256</td>\n",
       "      <td>-0.955381</td>\n",
       "      <td>-0.252741</td>\n",
       "    </tr>\n",
       "    <tr>\n",
       "      <th>1</th>\n",
       "      <td>1356362</td>\n",
       "      <td>9</td>\n",
       "      <td>0</td>\n",
       "      <td>0.595327</td>\n",
       "      <td>0.560776</td>\n",
       "      <td>0.678677</td>\n",
       "      <td>0.682837</td>\n",
       "      <td>0.722639</td>\n",
       "      <td>0.722929</td>\n",
       "      <td>0.601190</td>\n",
       "      <td>0.404075</td>\n",
       "      <td>0.727985</td>\n",
       "      <td>0.691171</td>\n",
       "      <td>0.459154</td>\n",
       "      <td>0.996474</td>\n",
       "      <td>0.631888</td>\n",
       "      <td>0.840464</td>\n",
       "      <td>0.911936</td>\n",
       "      <td>0.799406</td>\n",
       "      <td>0.588047</td>\n",
       "      <td>1.229965</td>\n",
       "      <td>0.749536</td>\n",
       "      <td>0.742305</td>\n",
       "      <td>0.878802</td>\n",
       "      <td>0.669953</td>\n",
       "      <td>0.847750</td>\n",
       "      <td>0.716763</td>\n",
       "      <td>0.786581</td>\n",
       "      <td>0.813645</td>\n",
       "      <td>1.052769</td>\n",
       "      <td>0.631718</td>\n",
       "      <td>0.914913</td>\n",
       "      <td>0.768231</td>\n",
       "      <td>0.529664</td>\n",
       "      <td>0.668713</td>\n",
       "      <td>0.403717</td>\n",
       "      <td>1.041611</td>\n",
       "    </tr>\n",
       "    <tr>\n",
       "      <th>2</th>\n",
       "      <td>1356375</td>\n",
       "      <td>3</td>\n",
       "      <td>0</td>\n",
       "      <td>0.595327</td>\n",
       "      <td>0.560776</td>\n",
       "      <td>0.678677</td>\n",
       "      <td>0.682837</td>\n",
       "      <td>0.722639</td>\n",
       "      <td>0.722929</td>\n",
       "      <td>0.601190</td>\n",
       "      <td>1.001915</td>\n",
       "      <td>0.727985</td>\n",
       "      <td>0.691171</td>\n",
       "      <td>1.132359</td>\n",
       "      <td>0.319105</td>\n",
       "      <td>0.631888</td>\n",
       "      <td>0.840464</td>\n",
       "      <td>0.911936</td>\n",
       "      <td>0.799406</td>\n",
       "      <td>0.588047</td>\n",
       "      <td>0.573607</td>\n",
       "      <td>0.749536</td>\n",
       "      <td>0.742305</td>\n",
       "      <td>0.878802</td>\n",
       "      <td>0.669953</td>\n",
       "      <td>0.077240</td>\n",
       "      <td>0.716763</td>\n",
       "      <td>0.786581</td>\n",
       "      <td>0.813645</td>\n",
       "      <td>1.052769</td>\n",
       "      <td>0.631718</td>\n",
       "      <td>0.914913</td>\n",
       "      <td>0.768231</td>\n",
       "      <td>0.529664</td>\n",
       "      <td>0.668713</td>\n",
       "      <td>0.403717</td>\n",
       "      <td>1.041611</td>\n",
       "    </tr>\n",
       "    <tr>\n",
       "      <th>3</th>\n",
       "      <td>1356375</td>\n",
       "      <td>4</td>\n",
       "      <td>0</td>\n",
       "      <td>0.595327</td>\n",
       "      <td>1.307560</td>\n",
       "      <td>0.678677</td>\n",
       "      <td>0.682837</td>\n",
       "      <td>0.722639</td>\n",
       "      <td>1.481795</td>\n",
       "      <td>1.355461</td>\n",
       "      <td>1.001915</td>\n",
       "      <td>-0.054888</td>\n",
       "      <td>0.691171</td>\n",
       "      <td>0.459154</td>\n",
       "      <td>0.996474</td>\n",
       "      <td>1.335139</td>\n",
       "      <td>1.580363</td>\n",
       "      <td>0.185069</td>\n",
       "      <td>0.799406</td>\n",
       "      <td>0.588047</td>\n",
       "      <td>-0.082751</td>\n",
       "      <td>0.097800</td>\n",
       "      <td>0.043412</td>\n",
       "      <td>0.878802</td>\n",
       "      <td>1.354645</td>\n",
       "      <td>0.847750</td>\n",
       "      <td>0.716763</td>\n",
       "      <td>1.560314</td>\n",
       "      <td>0.813645</td>\n",
       "      <td>0.428479</td>\n",
       "      <td>0.631718</td>\n",
       "      <td>0.198319</td>\n",
       "      <td>0.768231</td>\n",
       "      <td>-0.142650</td>\n",
       "      <td>0.668713</td>\n",
       "      <td>-0.275832</td>\n",
       "      <td>-0.252741</td>\n",
       "    </tr>\n",
       "    <tr>\n",
       "      <th>4</th>\n",
       "      <td>1356411</td>\n",
       "      <td>9</td>\n",
       "      <td>0</td>\n",
       "      <td>0.595327</td>\n",
       "      <td>0.560776</td>\n",
       "      <td>1.373158</td>\n",
       "      <td>1.430006</td>\n",
       "      <td>0.722639</td>\n",
       "      <td>0.722929</td>\n",
       "      <td>0.601190</td>\n",
       "      <td>0.404075</td>\n",
       "      <td>2.293730</td>\n",
       "      <td>1.504961</td>\n",
       "      <td>0.459154</td>\n",
       "      <td>0.996474</td>\n",
       "      <td>0.631888</td>\n",
       "      <td>0.100564</td>\n",
       "      <td>0.185069</td>\n",
       "      <td>0.799406</td>\n",
       "      <td>1.336806</td>\n",
       "      <td>0.573607</td>\n",
       "      <td>0.749536</td>\n",
       "      <td>0.742305</td>\n",
       "      <td>0.252352</td>\n",
       "      <td>1.354645</td>\n",
       "      <td>0.077240</td>\n",
       "      <td>0.716763</td>\n",
       "      <td>0.786581</td>\n",
       "      <td>0.115130</td>\n",
       "      <td>0.428479</td>\n",
       "      <td>0.631718</td>\n",
       "      <td>0.198319</td>\n",
       "      <td>0.768231</td>\n",
       "      <td>1.874292</td>\n",
       "      <td>-0.049944</td>\n",
       "      <td>1.083267</td>\n",
       "      <td>1.041611</td>\n",
       "    </tr>\n",
       "  </tbody>\n",
       "</table>\n",
       "</div>"
      ],
      "text/plain": [
       "attribute_id  player_id  position_id  potential_label      4322      4323      4324      4325      4326      4327      4328      4329      4330      4332      4333      4335      4338      4339      4340      4341      4342      4343      4344      4345      4348      4349      4350      4351      4352      4353      4354      4355      4356      4357      4407      4408      4423      4426\n",
       "0               1355710            7                0 -0.542606 -0.559398 -1.404764 -0.437916 -0.766602 -0.794802 -0.907351 -0.791605 -0.446324 -0.122619 -1.223858 -1.035633 -1.126240 -1.009285 -0.541797 -0.690375 -0.535091 -1.067288 -1.205671 -1.004927 -1.313773 -1.041775 -0.693269 -0.435633  0.012848 -1.281899 -1.132245 -0.494569 -1.234869 -1.519578 -0.142650 -1.487256 -0.955381 -0.252741\n",
       "1               1356362            9                0  0.595327  0.560776  0.678677  0.682837  0.722639  0.722929  0.601190  0.404075  0.727985  0.691171  0.459154  0.996474  0.631888  0.840464  0.911936  0.799406  0.588047  1.229965  0.749536  0.742305  0.878802  0.669953  0.847750  0.716763  0.786581  0.813645  1.052769  0.631718  0.914913  0.768231  0.529664  0.668713  0.403717  1.041611\n",
       "2               1356375            3                0  0.595327  0.560776  0.678677  0.682837  0.722639  0.722929  0.601190  1.001915  0.727985  0.691171  1.132359  0.319105  0.631888  0.840464  0.911936  0.799406  0.588047  0.573607  0.749536  0.742305  0.878802  0.669953  0.077240  0.716763  0.786581  0.813645  1.052769  0.631718  0.914913  0.768231  0.529664  0.668713  0.403717  1.041611\n",
       "3               1356375            4                0  0.595327  1.307560  0.678677  0.682837  0.722639  1.481795  1.355461  1.001915 -0.054888  0.691171  0.459154  0.996474  1.335139  1.580363  0.185069  0.799406  0.588047 -0.082751  0.097800  0.043412  0.878802  1.354645  0.847750  0.716763  1.560314  0.813645  0.428479  0.631718  0.198319  0.768231 -0.142650  0.668713 -0.275832 -0.252741\n",
       "4               1356411            9                0  0.595327  0.560776  1.373158  1.430006  0.722639  0.722929  0.601190  0.404075  2.293730  1.504961  0.459154  0.996474  0.631888  0.100564  0.185069  0.799406  1.336806  0.573607  0.749536  0.742305  0.252352  1.354645  0.077240  0.716763  0.786581  0.115130  0.428479  0.631718  0.198319  0.768231  1.874292 -0.049944  1.083267  1.041611"
      ]
     },
     "execution_count": 18,
     "metadata": {},
     "output_type": "execute_result"
    }
   ],
   "source": [
    "# scaling numeric features in order to avoid measurement problems\n",
    "scaler = StandardScaler()\n",
    "\n",
    "new_df[num_cols] = scaler.fit_transform(new_df[num_cols])\n",
    "new_df.head()"
   ]
  },
  {
   "cell_type": "code",
   "execution_count": 19,
   "id": "74091e25",
   "metadata": {
    "execution": {
     "iopub.execute_input": "2022-08-15T19:51:46.438640Z",
     "iopub.status.busy": "2022-08-15T19:51:46.438012Z",
     "iopub.status.idle": "2022-08-15T19:51:46.471647Z",
     "shell.execute_reply": "2022-08-15T19:51:46.470541Z"
    },
    "papermill": {
     "duration": 0.058484,
     "end_time": "2022-08-15T19:51:46.474165",
     "exception": false,
     "start_time": "2022-08-15T19:51:46.415681",
     "status": "completed"
    },
    "tags": []
   },
   "outputs": [
    {
     "data": {
      "text/html": [
       "<div>\n",
       "<style scoped>\n",
       "    .dataframe tbody tr th:only-of-type {\n",
       "        vertical-align: middle;\n",
       "    }\n",
       "\n",
       "    .dataframe tbody tr th {\n",
       "        vertical-align: top;\n",
       "    }\n",
       "\n",
       "    .dataframe thead th {\n",
       "        text-align: right;\n",
       "    }\n",
       "</style>\n",
       "<table border=\"1\" class=\"dataframe\">\n",
       "  <thead>\n",
       "    <tr style=\"text-align: right;\">\n",
       "      <th>attribute_id</th>\n",
       "      <th>player_id</th>\n",
       "      <th>position_id</th>\n",
       "      <th>potential_label</th>\n",
       "      <th>4322</th>\n",
       "      <th>4323</th>\n",
       "      <th>4324</th>\n",
       "      <th>4325</th>\n",
       "      <th>4326</th>\n",
       "      <th>4327</th>\n",
       "      <th>4328</th>\n",
       "      <th>4329</th>\n",
       "      <th>4330</th>\n",
       "      <th>4332</th>\n",
       "      <th>4333</th>\n",
       "      <th>4335</th>\n",
       "      <th>4338</th>\n",
       "      <th>4339</th>\n",
       "      <th>4340</th>\n",
       "      <th>4341</th>\n",
       "      <th>4342</th>\n",
       "      <th>4343</th>\n",
       "      <th>4344</th>\n",
       "      <th>4345</th>\n",
       "      <th>4348</th>\n",
       "      <th>4349</th>\n",
       "      <th>4350</th>\n",
       "      <th>4351</th>\n",
       "      <th>4352</th>\n",
       "      <th>4353</th>\n",
       "      <th>4354</th>\n",
       "      <th>4355</th>\n",
       "      <th>4356</th>\n",
       "      <th>4357</th>\n",
       "      <th>4407</th>\n",
       "      <th>4408</th>\n",
       "      <th>4423</th>\n",
       "      <th>4426</th>\n",
       "    </tr>\n",
       "  </thead>\n",
       "  <tbody>\n",
       "    <tr>\n",
       "      <th>0</th>\n",
       "      <td>1355710</td>\n",
       "      <td>7</td>\n",
       "      <td>0</td>\n",
       "      <td>-0.542606</td>\n",
       "      <td>-0.559398</td>\n",
       "      <td>-1.404764</td>\n",
       "      <td>-0.437916</td>\n",
       "      <td>-0.766602</td>\n",
       "      <td>-0.794802</td>\n",
       "      <td>-0.907351</td>\n",
       "      <td>-0.791605</td>\n",
       "      <td>-0.446324</td>\n",
       "      <td>-0.122619</td>\n",
       "      <td>-1.223858</td>\n",
       "      <td>-1.035633</td>\n",
       "      <td>-1.126240</td>\n",
       "      <td>-1.009285</td>\n",
       "      <td>-0.541797</td>\n",
       "      <td>-0.690375</td>\n",
       "      <td>-0.535091</td>\n",
       "      <td>-1.067288</td>\n",
       "      <td>-1.205671</td>\n",
       "      <td>-1.004927</td>\n",
       "      <td>-1.313773</td>\n",
       "      <td>-1.041775</td>\n",
       "      <td>-0.693269</td>\n",
       "      <td>-0.435633</td>\n",
       "      <td>0.012848</td>\n",
       "      <td>-1.281899</td>\n",
       "      <td>-1.132245</td>\n",
       "      <td>-0.494569</td>\n",
       "      <td>-1.234869</td>\n",
       "      <td>-1.519578</td>\n",
       "      <td>-0.142650</td>\n",
       "      <td>-1.487256</td>\n",
       "      <td>-0.955381</td>\n",
       "      <td>-0.252741</td>\n",
       "    </tr>\n",
       "    <tr>\n",
       "      <th>1</th>\n",
       "      <td>1356362</td>\n",
       "      <td>9</td>\n",
       "      <td>0</td>\n",
       "      <td>0.595327</td>\n",
       "      <td>0.560776</td>\n",
       "      <td>0.678677</td>\n",
       "      <td>0.682837</td>\n",
       "      <td>0.722639</td>\n",
       "      <td>0.722929</td>\n",
       "      <td>0.601190</td>\n",
       "      <td>0.404075</td>\n",
       "      <td>0.727985</td>\n",
       "      <td>0.691171</td>\n",
       "      <td>0.459154</td>\n",
       "      <td>0.996474</td>\n",
       "      <td>0.631888</td>\n",
       "      <td>0.840464</td>\n",
       "      <td>0.911936</td>\n",
       "      <td>0.799406</td>\n",
       "      <td>0.588047</td>\n",
       "      <td>1.229965</td>\n",
       "      <td>0.749536</td>\n",
       "      <td>0.742305</td>\n",
       "      <td>0.878802</td>\n",
       "      <td>0.669953</td>\n",
       "      <td>0.847750</td>\n",
       "      <td>0.716763</td>\n",
       "      <td>0.786581</td>\n",
       "      <td>0.813645</td>\n",
       "      <td>1.052769</td>\n",
       "      <td>0.631718</td>\n",
       "      <td>0.914913</td>\n",
       "      <td>0.768231</td>\n",
       "      <td>0.529664</td>\n",
       "      <td>0.668713</td>\n",
       "      <td>0.403717</td>\n",
       "      <td>1.041611</td>\n",
       "    </tr>\n",
       "    <tr>\n",
       "      <th>2</th>\n",
       "      <td>1356375</td>\n",
       "      <td>3</td>\n",
       "      <td>0</td>\n",
       "      <td>0.595327</td>\n",
       "      <td>0.560776</td>\n",
       "      <td>0.678677</td>\n",
       "      <td>0.682837</td>\n",
       "      <td>0.722639</td>\n",
       "      <td>0.722929</td>\n",
       "      <td>0.601190</td>\n",
       "      <td>1.001915</td>\n",
       "      <td>0.727985</td>\n",
       "      <td>0.691171</td>\n",
       "      <td>1.132359</td>\n",
       "      <td>0.319105</td>\n",
       "      <td>0.631888</td>\n",
       "      <td>0.840464</td>\n",
       "      <td>0.911936</td>\n",
       "      <td>0.799406</td>\n",
       "      <td>0.588047</td>\n",
       "      <td>0.573607</td>\n",
       "      <td>0.749536</td>\n",
       "      <td>0.742305</td>\n",
       "      <td>0.878802</td>\n",
       "      <td>0.669953</td>\n",
       "      <td>0.077240</td>\n",
       "      <td>0.716763</td>\n",
       "      <td>0.786581</td>\n",
       "      <td>0.813645</td>\n",
       "      <td>1.052769</td>\n",
       "      <td>0.631718</td>\n",
       "      <td>0.914913</td>\n",
       "      <td>0.768231</td>\n",
       "      <td>0.529664</td>\n",
       "      <td>0.668713</td>\n",
       "      <td>0.403717</td>\n",
       "      <td>1.041611</td>\n",
       "    </tr>\n",
       "    <tr>\n",
       "      <th>3</th>\n",
       "      <td>1356375</td>\n",
       "      <td>4</td>\n",
       "      <td>0</td>\n",
       "      <td>0.595327</td>\n",
       "      <td>1.307560</td>\n",
       "      <td>0.678677</td>\n",
       "      <td>0.682837</td>\n",
       "      <td>0.722639</td>\n",
       "      <td>1.481795</td>\n",
       "      <td>1.355461</td>\n",
       "      <td>1.001915</td>\n",
       "      <td>-0.054888</td>\n",
       "      <td>0.691171</td>\n",
       "      <td>0.459154</td>\n",
       "      <td>0.996474</td>\n",
       "      <td>1.335139</td>\n",
       "      <td>1.580363</td>\n",
       "      <td>0.185069</td>\n",
       "      <td>0.799406</td>\n",
       "      <td>0.588047</td>\n",
       "      <td>-0.082751</td>\n",
       "      <td>0.097800</td>\n",
       "      <td>0.043412</td>\n",
       "      <td>0.878802</td>\n",
       "      <td>1.354645</td>\n",
       "      <td>0.847750</td>\n",
       "      <td>0.716763</td>\n",
       "      <td>1.560314</td>\n",
       "      <td>0.813645</td>\n",
       "      <td>0.428479</td>\n",
       "      <td>0.631718</td>\n",
       "      <td>0.198319</td>\n",
       "      <td>0.768231</td>\n",
       "      <td>-0.142650</td>\n",
       "      <td>0.668713</td>\n",
       "      <td>-0.275832</td>\n",
       "      <td>-0.252741</td>\n",
       "    </tr>\n",
       "    <tr>\n",
       "      <th>4</th>\n",
       "      <td>1356411</td>\n",
       "      <td>9</td>\n",
       "      <td>0</td>\n",
       "      <td>0.595327</td>\n",
       "      <td>0.560776</td>\n",
       "      <td>1.373158</td>\n",
       "      <td>1.430006</td>\n",
       "      <td>0.722639</td>\n",
       "      <td>0.722929</td>\n",
       "      <td>0.601190</td>\n",
       "      <td>0.404075</td>\n",
       "      <td>2.293730</td>\n",
       "      <td>1.504961</td>\n",
       "      <td>0.459154</td>\n",
       "      <td>0.996474</td>\n",
       "      <td>0.631888</td>\n",
       "      <td>0.100564</td>\n",
       "      <td>0.185069</td>\n",
       "      <td>0.799406</td>\n",
       "      <td>1.336806</td>\n",
       "      <td>0.573607</td>\n",
       "      <td>0.749536</td>\n",
       "      <td>0.742305</td>\n",
       "      <td>0.252352</td>\n",
       "      <td>1.354645</td>\n",
       "      <td>0.077240</td>\n",
       "      <td>0.716763</td>\n",
       "      <td>0.786581</td>\n",
       "      <td>0.115130</td>\n",
       "      <td>0.428479</td>\n",
       "      <td>0.631718</td>\n",
       "      <td>0.198319</td>\n",
       "      <td>0.768231</td>\n",
       "      <td>1.874292</td>\n",
       "      <td>-0.049944</td>\n",
       "      <td>1.083267</td>\n",
       "      <td>1.041611</td>\n",
       "    </tr>\n",
       "  </tbody>\n",
       "</table>\n",
       "</div>"
      ],
      "text/plain": [
       "attribute_id  player_id  position_id  potential_label      4322      4323      4324      4325      4326      4327      4328      4329      4330      4332      4333      4335      4338      4339      4340      4341      4342      4343      4344      4345      4348      4349      4350      4351      4352      4353      4354      4355      4356      4357      4407      4408      4423      4426\n",
       "0               1355710            7                0 -0.542606 -0.559398 -1.404764 -0.437916 -0.766602 -0.794802 -0.907351 -0.791605 -0.446324 -0.122619 -1.223858 -1.035633 -1.126240 -1.009285 -0.541797 -0.690375 -0.535091 -1.067288 -1.205671 -1.004927 -1.313773 -1.041775 -0.693269 -0.435633  0.012848 -1.281899 -1.132245 -0.494569 -1.234869 -1.519578 -0.142650 -1.487256 -0.955381 -0.252741\n",
       "1               1356362            9                0  0.595327  0.560776  0.678677  0.682837  0.722639  0.722929  0.601190  0.404075  0.727985  0.691171  0.459154  0.996474  0.631888  0.840464  0.911936  0.799406  0.588047  1.229965  0.749536  0.742305  0.878802  0.669953  0.847750  0.716763  0.786581  0.813645  1.052769  0.631718  0.914913  0.768231  0.529664  0.668713  0.403717  1.041611\n",
       "2               1356375            3                0  0.595327  0.560776  0.678677  0.682837  0.722639  0.722929  0.601190  1.001915  0.727985  0.691171  1.132359  0.319105  0.631888  0.840464  0.911936  0.799406  0.588047  0.573607  0.749536  0.742305  0.878802  0.669953  0.077240  0.716763  0.786581  0.813645  1.052769  0.631718  0.914913  0.768231  0.529664  0.668713  0.403717  1.041611\n",
       "3               1356375            4                0  0.595327  1.307560  0.678677  0.682837  0.722639  1.481795  1.355461  1.001915 -0.054888  0.691171  0.459154  0.996474  1.335139  1.580363  0.185069  0.799406  0.588047 -0.082751  0.097800  0.043412  0.878802  1.354645  0.847750  0.716763  1.560314  0.813645  0.428479  0.631718  0.198319  0.768231 -0.142650  0.668713 -0.275832 -0.252741\n",
       "4               1356411            9                0  0.595327  0.560776  1.373158  1.430006  0.722639  0.722929  0.601190  0.404075  2.293730  1.504961  0.459154  0.996474  0.631888  0.100564  0.185069  0.799406  1.336806  0.573607  0.749536  0.742305  0.252352  1.354645  0.077240  0.716763  0.786581  0.115130  0.428479  0.631718  0.198319  0.768231  1.874292 -0.049944  1.083267  1.041611"
      ]
     },
     "execution_count": 19,
     "metadata": {},
     "output_type": "execute_result"
    }
   ],
   "source": [
    "new_df.head()"
   ]
  },
  {
   "cell_type": "code",
   "execution_count": 20,
   "id": "f77d5f73",
   "metadata": {
    "execution": {
     "iopub.execute_input": "2022-08-15T19:51:46.519079Z",
     "iopub.status.busy": "2022-08-15T19:51:46.518637Z",
     "iopub.status.idle": "2022-08-15T19:51:46.533478Z",
     "shell.execute_reply": "2022-08-15T19:51:46.532500Z"
    },
    "papermill": {
     "duration": 0.040608,
     "end_time": "2022-08-15T19:51:46.536190",
     "exception": false,
     "start_time": "2022-08-15T19:51:46.495582",
     "status": "completed"
    },
    "tags": []
   },
   "outputs": [],
   "source": [
    "# BASE MODELS\n",
    "y = new_df[\"potential_label\"]\n",
    "X = new_df.drop([\"potential_label\"], axis=1)\n",
    "\n",
    "X_train, X_test, y_train, y_test = train_test_split(X, y, test_size= 0.30, random_state= 42)\n",
    "\n",
    "models = [('LR', LogisticRegression()),\n",
    "          ('RF', RandomForestClassifier()),\n",
    "          ('SVR', SVC()),\n",
    "          ('GBM', GradientBoostingClassifier()),\n",
    "          (\"XGBoost\", XGBClassifier()),\n",
    "          (\"LightGBM\", LGBMClassifier()),\n",
    "          (\"CatBoost\", CatBoostClassifier(verbose=False))]\n"
   ]
  },
  {
   "cell_type": "code",
   "execution_count": 21,
   "id": "5db0ad8e",
   "metadata": {
    "execution": {
     "iopub.execute_input": "2022-08-15T19:51:46.581156Z",
     "iopub.status.busy": "2022-08-15T19:51:46.579894Z",
     "iopub.status.idle": "2022-08-15T19:52:01.603432Z",
     "shell.execute_reply": "2022-08-15T19:52:01.602228Z"
    },
    "papermill": {
     "duration": 15.049339,
     "end_time": "2022-08-15T19:52:01.606729",
     "exception": false,
     "start_time": "2022-08-15T19:51:46.557390",
     "status": "completed"
    },
    "tags": []
   },
   "outputs": [],
   "source": [
    "def model_results(models):  \n",
    "    \n",
    "    base_results = pd.DataFrame()\n",
    "    base_results.index = [\"accuracy_score\", \"f1_score\", \"roc_auc_score\", \"recall_score\"]\n",
    "    \n",
    "    for name, classifier in models:\n",
    "        \n",
    "        cv_results = cross_validate(classifier, X_train, y_train, cv=10, scoring=[\"accuracy\", \"f1\", \"roc_auc\", \"recall\"])\n",
    "        base_results[name] = [cv_results['test_accuracy'].mean(), cv_results['test_f1'].mean(), \n",
    "                             cv_results['test_roc_auc'].mean(), cv_results['test_recall'].mean()]\n",
    "        \n",
    "        \n",
    "    base_results = base_results.T.sort_values(\"f1_score\", ascending=False)   \n",
    "  \n",
    "    return base_results\n",
    "\n",
    "\n",
    "base_result = model_results(models)"
   ]
  },
  {
   "cell_type": "code",
   "execution_count": 22,
   "id": "1695e8c0",
   "metadata": {
    "execution": {
     "iopub.execute_input": "2022-08-15T19:52:01.651483Z",
     "iopub.status.busy": "2022-08-15T19:52:01.651048Z",
     "iopub.status.idle": "2022-08-15T19:52:01.664378Z",
     "shell.execute_reply": "2022-08-15T19:52:01.662999Z"
    },
    "papermill": {
     "duration": 0.038544,
     "end_time": "2022-08-15T19:52:01.666756",
     "exception": false,
     "start_time": "2022-08-15T19:52:01.628212",
     "status": "completed"
    },
    "tags": []
   },
   "outputs": [
    {
     "data": {
      "text/html": [
       "<div>\n",
       "<style scoped>\n",
       "    .dataframe tbody tr th:only-of-type {\n",
       "        vertical-align: middle;\n",
       "    }\n",
       "\n",
       "    .dataframe tbody tr th {\n",
       "        vertical-align: top;\n",
       "    }\n",
       "\n",
       "    .dataframe thead th {\n",
       "        text-align: right;\n",
       "    }\n",
       "</style>\n",
       "<table border=\"1\" class=\"dataframe\">\n",
       "  <thead>\n",
       "    <tr style=\"text-align: right;\">\n",
       "      <th></th>\n",
       "      <th>accuracy_score</th>\n",
       "      <th>f1_score</th>\n",
       "      <th>roc_auc_score</th>\n",
       "      <th>recall_score</th>\n",
       "    </tr>\n",
       "  </thead>\n",
       "  <tbody>\n",
       "    <tr>\n",
       "      <th>LightGBM</th>\n",
       "      <td>0.888889</td>\n",
       "      <td>0.678175</td>\n",
       "      <td>0.903333</td>\n",
       "      <td>0.633333</td>\n",
       "    </tr>\n",
       "    <tr>\n",
       "      <th>XGBoost</th>\n",
       "      <td>0.873099</td>\n",
       "      <td>0.640952</td>\n",
       "      <td>0.897361</td>\n",
       "      <td>0.575000</td>\n",
       "    </tr>\n",
       "    <tr>\n",
       "      <th>RF</th>\n",
       "      <td>0.873392</td>\n",
       "      <td>0.584286</td>\n",
       "      <td>0.902917</td>\n",
       "      <td>0.450000</td>\n",
       "    </tr>\n",
       "    <tr>\n",
       "      <th>CatBoost</th>\n",
       "      <td>0.873392</td>\n",
       "      <td>0.583810</td>\n",
       "      <td>0.899028</td>\n",
       "      <td>0.450000</td>\n",
       "    </tr>\n",
       "    <tr>\n",
       "      <th>GBM</th>\n",
       "      <td>0.841228</td>\n",
       "      <td>0.513571</td>\n",
       "      <td>0.862361</td>\n",
       "      <td>0.475000</td>\n",
       "    </tr>\n",
       "    <tr>\n",
       "      <th>LR</th>\n",
       "      <td>0.799123</td>\n",
       "      <td>0.000000</td>\n",
       "      <td>0.502361</td>\n",
       "      <td>0.000000</td>\n",
       "    </tr>\n",
       "    <tr>\n",
       "      <th>SVR</th>\n",
       "      <td>0.799123</td>\n",
       "      <td>0.000000</td>\n",
       "      <td>0.443056</td>\n",
       "      <td>0.000000</td>\n",
       "    </tr>\n",
       "  </tbody>\n",
       "</table>\n",
       "</div>"
      ],
      "text/plain": [
       "          accuracy_score  f1_score  roc_auc_score  recall_score\n",
       "LightGBM        0.888889  0.678175       0.903333      0.633333\n",
       "XGBoost         0.873099  0.640952       0.897361      0.575000\n",
       "RF              0.873392  0.584286       0.902917      0.450000\n",
       "CatBoost        0.873392  0.583810       0.899028      0.450000\n",
       "GBM             0.841228  0.513571       0.862361      0.475000\n",
       "LR              0.799123  0.000000       0.502361      0.000000\n",
       "SVR             0.799123  0.000000       0.443056      0.000000"
      ]
     },
     "execution_count": 22,
     "metadata": {},
     "output_type": "execute_result"
    }
   ],
   "source": [
    "base_result"
   ]
  },
  {
   "cell_type": "code",
   "execution_count": 23,
   "id": "04699783",
   "metadata": {
    "execution": {
     "iopub.execute_input": "2022-08-15T19:52:01.713161Z",
     "iopub.status.busy": "2022-08-15T19:52:01.712732Z",
     "iopub.status.idle": "2022-08-15T19:52:01.722543Z",
     "shell.execute_reply": "2022-08-15T19:52:01.721696Z"
    },
    "papermill": {
     "duration": 0.035496,
     "end_time": "2022-08-15T19:52:01.724784",
     "exception": false,
     "start_time": "2022-08-15T19:52:01.689288",
     "status": "completed"
    },
    "tags": []
   },
   "outputs": [],
   "source": [
    "# Hyperparameters\n",
    "\n",
    "rf_params = {\"max_depth\": [5, 8, None],\n",
    "             \"max_features\": [3, 5, 7, \"auto\"],\n",
    "             \"min_samples_split\": [2, 5, 8, 15, 20],\n",
    "             \"n_estimators\": [100, 200, 500]}\n",
    "\n",
    "gbm_params = {\"learning_rate\": [0.01, 0.1],\n",
    "              \"max_depth\": [3, 8, 10],\n",
    "              \"n_estimators\": [100, 500, 1000],\n",
    "              \"subsample\": [1, 0.5, 0.7]}\n",
    "\n",
    "xgboost_params = {\"learning_rate\": [0.1, 0.01],\n",
    "                  \"max_depth\": [5, 8],\n",
    "                  \"n_estimators\": [100, 500, 200],\n",
    "                  \"colsample_bytree\": [0.7, 1]}\n",
    "\n",
    "lgbm_params = {\"learning_rate\": [0.01, 0.1],\n",
    "               \"n_estimators\": [100, 300, 500, 1000],\n",
    "               \"colsample_bytree\": [0.5, 0.7, 1]}\n",
    "\n",
    "catboost_params = {\"iterations\": [200, 500],\n",
    "                   \"learning_rate\": [0.01, 0.1],\n",
    "                   \"depth\": [3, 6]}\n",
    "\n",
    "\n",
    "classifiers = [('RF', RandomForestClassifier(), rf_params),\n",
    "          ('GBM', GradientBoostingClassifier(), gbm_params),\n",
    "          (\"XGBoost\", XGBClassifier(), xgboost_params),\n",
    "          (\"LightGBM\", LGBMClassifier(), lgbm_params),\n",
    "          (\"CatBoost\", CatBoostClassifier(verbose=False), catboost_params)]\n",
    "\n",
    "\n"
   ]
  },
  {
   "cell_type": "code",
   "execution_count": 24,
   "id": "49958ba1",
   "metadata": {
    "execution": {
     "iopub.execute_input": "2022-08-15T19:52:01.770171Z",
     "iopub.status.busy": "2022-08-15T19:52:01.769287Z",
     "iopub.status.idle": "2022-08-15T19:54:57.990253Z",
     "shell.execute_reply": "2022-08-15T19:54:57.988912Z"
    },
    "papermill": {
     "duration": 176.247178,
     "end_time": "2022-08-15T19:54:57.993356",
     "exception": false,
     "start_time": "2022-08-15T19:52:01.746178",
     "status": "completed"
    },
    "tags": []
   },
   "outputs": [],
   "source": [
    "#  Hyperparameter Optimization\n",
    "\n",
    "def model_results(classifiers):  \n",
    "    \n",
    "    model_grid = pd.DataFrame()\n",
    "    model_grid.index = [\"accuracy_score\", \"f1_score\", \"roc_auc_score\", \"recall_score\"]\n",
    "    \n",
    "    best_models = {}\n",
    "    for name, classifier, params in classifiers:\n",
    "        gs_best = GridSearchCV(classifier, params, cv=3, n_jobs=-1, verbose=False).fit(X_train, y_train)\n",
    "        final_model = classifier.set_params(**gs_best.best_params_)\n",
    "        cv_results = cross_validate(final_model, X_train, y_train, cv=3, scoring=[\"accuracy\", \"f1\", \"roc_auc\", \"recall\"])\n",
    "        model_grid[name] = [cv_results['test_accuracy'].mean(), cv_results['test_f1'].mean(), \n",
    "                             cv_results['test_roc_auc'].mean(), cv_results['test_recall'].mean()]\n",
    "        \n",
    "        best_models[name] = final_model   \n",
    "    model_grid = model_grid.T.sort_values(\"f1_score\", ascending=False)   \n",
    "  \n",
    "    return model_grid, best_models\n",
    "final_model, best_model_params = model_results(classifiers)"
   ]
  },
  {
   "cell_type": "code",
   "execution_count": 25,
   "id": "08f3d54d",
   "metadata": {
    "execution": {
     "iopub.execute_input": "2022-08-15T19:54:58.040825Z",
     "iopub.status.busy": "2022-08-15T19:54:58.039684Z",
     "iopub.status.idle": "2022-08-15T19:54:58.054497Z",
     "shell.execute_reply": "2022-08-15T19:54:58.053035Z"
    },
    "papermill": {
     "duration": 0.042096,
     "end_time": "2022-08-15T19:54:58.057428",
     "exception": false,
     "start_time": "2022-08-15T19:54:58.015332",
     "status": "completed"
    },
    "tags": []
   },
   "outputs": [
    {
     "data": {
      "text/html": [
       "<div>\n",
       "<style scoped>\n",
       "    .dataframe tbody tr th:only-of-type {\n",
       "        vertical-align: middle;\n",
       "    }\n",
       "\n",
       "    .dataframe tbody tr th {\n",
       "        vertical-align: top;\n",
       "    }\n",
       "\n",
       "    .dataframe thead th {\n",
       "        text-align: right;\n",
       "    }\n",
       "</style>\n",
       "<table border=\"1\" class=\"dataframe\">\n",
       "  <thead>\n",
       "    <tr style=\"text-align: right;\">\n",
       "      <th></th>\n",
       "      <th>accuracy_score</th>\n",
       "      <th>f1_score</th>\n",
       "      <th>roc_auc_score</th>\n",
       "      <th>recall_score</th>\n",
       "    </tr>\n",
       "  </thead>\n",
       "  <tbody>\n",
       "    <tr>\n",
       "      <th>LightGBM</th>\n",
       "      <td>0.899471</td>\n",
       "      <td>0.695375</td>\n",
       "      <td>0.857976</td>\n",
       "      <td>0.576923</td>\n",
       "    </tr>\n",
       "    <tr>\n",
       "      <th>XGBoost</th>\n",
       "      <td>0.883598</td>\n",
       "      <td>0.629630</td>\n",
       "      <td>0.885594</td>\n",
       "      <td>0.497863</td>\n",
       "    </tr>\n",
       "    <tr>\n",
       "      <th>RF</th>\n",
       "      <td>0.888889</td>\n",
       "      <td>0.622222</td>\n",
       "      <td>0.882673</td>\n",
       "      <td>0.470085</td>\n",
       "    </tr>\n",
       "    <tr>\n",
       "      <th>CatBoost</th>\n",
       "      <td>0.888889</td>\n",
       "      <td>0.620635</td>\n",
       "      <td>0.882457</td>\n",
       "      <td>0.470085</td>\n",
       "    </tr>\n",
       "    <tr>\n",
       "      <th>GBM</th>\n",
       "      <td>0.873016</td>\n",
       "      <td>0.615954</td>\n",
       "      <td>0.865824</td>\n",
       "      <td>0.523504</td>\n",
       "    </tr>\n",
       "  </tbody>\n",
       "</table>\n",
       "</div>"
      ],
      "text/plain": [
       "          accuracy_score  f1_score  roc_auc_score  recall_score\n",
       "LightGBM        0.899471  0.695375       0.857976      0.576923\n",
       "XGBoost         0.883598  0.629630       0.885594      0.497863\n",
       "RF              0.888889  0.622222       0.882673      0.470085\n",
       "CatBoost        0.888889  0.620635       0.882457      0.470085\n",
       "GBM             0.873016  0.615954       0.865824      0.523504"
      ]
     },
     "execution_count": 25,
     "metadata": {},
     "output_type": "execute_result"
    }
   ],
   "source": [
    "final_model"
   ]
  },
  {
   "cell_type": "code",
   "execution_count": 26,
   "id": "0cb05aee",
   "metadata": {
    "execution": {
     "iopub.execute_input": "2022-08-15T19:54:58.104383Z",
     "iopub.status.busy": "2022-08-15T19:54:58.103590Z",
     "iopub.status.idle": "2022-08-15T19:54:58.117465Z",
     "shell.execute_reply": "2022-08-15T19:54:58.116118Z"
    },
    "papermill": {
     "duration": 0.040334,
     "end_time": "2022-08-15T19:54:58.119999",
     "exception": false,
     "start_time": "2022-08-15T19:54:58.079665",
     "status": "completed"
    },
    "tags": []
   },
   "outputs": [
    {
     "data": {
      "text/html": [
       "<div>\n",
       "<style scoped>\n",
       "    .dataframe tbody tr th:only-of-type {\n",
       "        vertical-align: middle;\n",
       "    }\n",
       "\n",
       "    .dataframe tbody tr th {\n",
       "        vertical-align: top;\n",
       "    }\n",
       "\n",
       "    .dataframe thead th {\n",
       "        text-align: right;\n",
       "    }\n",
       "</style>\n",
       "<table border=\"1\" class=\"dataframe\">\n",
       "  <thead>\n",
       "    <tr style=\"text-align: right;\">\n",
       "      <th></th>\n",
       "      <th>accuracy_score</th>\n",
       "      <th>f1_score</th>\n",
       "      <th>roc_auc_score</th>\n",
       "      <th>recall_score</th>\n",
       "    </tr>\n",
       "  </thead>\n",
       "  <tbody>\n",
       "    <tr>\n",
       "      <th>LightGBM</th>\n",
       "      <td>0.888889</td>\n",
       "      <td>0.678175</td>\n",
       "      <td>0.903333</td>\n",
       "      <td>0.633333</td>\n",
       "    </tr>\n",
       "    <tr>\n",
       "      <th>XGBoost</th>\n",
       "      <td>0.873099</td>\n",
       "      <td>0.640952</td>\n",
       "      <td>0.897361</td>\n",
       "      <td>0.575000</td>\n",
       "    </tr>\n",
       "    <tr>\n",
       "      <th>RF</th>\n",
       "      <td>0.873392</td>\n",
       "      <td>0.584286</td>\n",
       "      <td>0.902917</td>\n",
       "      <td>0.450000</td>\n",
       "    </tr>\n",
       "    <tr>\n",
       "      <th>CatBoost</th>\n",
       "      <td>0.873392</td>\n",
       "      <td>0.583810</td>\n",
       "      <td>0.899028</td>\n",
       "      <td>0.450000</td>\n",
       "    </tr>\n",
       "    <tr>\n",
       "      <th>GBM</th>\n",
       "      <td>0.841228</td>\n",
       "      <td>0.513571</td>\n",
       "      <td>0.862361</td>\n",
       "      <td>0.475000</td>\n",
       "    </tr>\n",
       "    <tr>\n",
       "      <th>LR</th>\n",
       "      <td>0.799123</td>\n",
       "      <td>0.000000</td>\n",
       "      <td>0.502361</td>\n",
       "      <td>0.000000</td>\n",
       "    </tr>\n",
       "    <tr>\n",
       "      <th>SVR</th>\n",
       "      <td>0.799123</td>\n",
       "      <td>0.000000</td>\n",
       "      <td>0.443056</td>\n",
       "      <td>0.000000</td>\n",
       "    </tr>\n",
       "  </tbody>\n",
       "</table>\n",
       "</div>"
      ],
      "text/plain": [
       "          accuracy_score  f1_score  roc_auc_score  recall_score\n",
       "LightGBM        0.888889  0.678175       0.903333      0.633333\n",
       "XGBoost         0.873099  0.640952       0.897361      0.575000\n",
       "RF              0.873392  0.584286       0.902917      0.450000\n",
       "CatBoost        0.873392  0.583810       0.899028      0.450000\n",
       "GBM             0.841228  0.513571       0.862361      0.475000\n",
       "LR              0.799123  0.000000       0.502361      0.000000\n",
       "SVR             0.799123  0.000000       0.443056      0.000000"
      ]
     },
     "execution_count": 26,
     "metadata": {},
     "output_type": "execute_result"
    }
   ],
   "source": [
    "base_result"
   ]
  },
  {
   "cell_type": "code",
   "execution_count": 27,
   "id": "cea72152",
   "metadata": {
    "execution": {
     "iopub.execute_input": "2022-08-15T19:54:58.165648Z",
     "iopub.status.busy": "2022-08-15T19:54:58.165249Z",
     "iopub.status.idle": "2022-08-15T19:54:58.177836Z",
     "shell.execute_reply": "2022-08-15T19:54:58.176289Z"
    },
    "papermill": {
     "duration": 0.038557,
     "end_time": "2022-08-15T19:54:58.180641",
     "exception": false,
     "start_time": "2022-08-15T19:54:58.142084",
     "status": "completed"
    },
    "tags": []
   },
   "outputs": [
    {
     "data": {
      "text/plain": [
       "{'RF': RandomForestClassifier(max_depth=8, max_features=5, min_samples_split=8,\n",
       "                        n_estimators=500),\n",
       " 'GBM': GradientBoostingClassifier(subsample=0.7),\n",
       " 'XGBoost': XGBClassifier(base_score=None, booster=None, callbacks=None,\n",
       "               colsample_bylevel=None, colsample_bynode=None,\n",
       "               colsample_bytree=0.7, early_stopping_rounds=None,\n",
       "               enable_categorical=False, eval_metric=None, gamma=None,\n",
       "               gpu_id=None, grow_policy=None, importance_type=None,\n",
       "               interaction_constraints=None, learning_rate=0.01, max_bin=None,\n",
       "               max_cat_to_onehot=None, max_delta_step=None, max_depth=5,\n",
       "               max_leaves=None, min_child_weight=None, missing=nan,\n",
       "               monotone_constraints=None, n_estimators=500, n_jobs=None,\n",
       "               num_parallel_tree=None, predictor=None, random_state=None,\n",
       "               reg_alpha=None, reg_lambda=None, ...),\n",
       " 'LightGBM': LGBMClassifier(colsample_bytree=1, learning_rate=0.01, n_estimators=1000),\n",
       " 'CatBoost': <catboost.core.CatBoostClassifier at 0x7fab2d8d2390>}"
      ]
     },
     "execution_count": 27,
     "metadata": {},
     "output_type": "execute_result"
    }
   ],
   "source": [
    "best_model_params"
   ]
  },
  {
   "cell_type": "code",
   "execution_count": 28,
   "id": "094a561d",
   "metadata": {
    "execution": {
     "iopub.execute_input": "2022-08-15T19:54:58.227259Z",
     "iopub.status.busy": "2022-08-15T19:54:58.226857Z",
     "iopub.status.idle": "2022-08-15T19:54:58.566252Z",
     "shell.execute_reply": "2022-08-15T19:54:58.565133Z"
    },
    "papermill": {
     "duration": 0.365955,
     "end_time": "2022-08-15T19:54:58.568841",
     "exception": false,
     "start_time": "2022-08-15T19:54:58.202886",
     "status": "completed"
    },
    "tags": []
   },
   "outputs": [
    {
     "data": {
      "text/plain": [
       "0.8411458333333334"
      ]
     },
     "execution_count": 28,
     "metadata": {},
     "output_type": "execute_result"
    }
   ],
   "source": [
    "final_lgbm = LGBMClassifier(colsample_bytree=1, learning_rate=0.01, n_estimators=1000).fit(X_train, y_train)\n",
    "y_pred = final_lgbm.predict(X_test)\n",
    "y_prob = final_lgbm.predict_proba(X_test)[:,1]\n",
    "roc_auc_score(y_test, y_prob)"
   ]
  },
  {
   "cell_type": "code",
   "execution_count": 29,
   "id": "8f469f9e",
   "metadata": {
    "execution": {
     "iopub.execute_input": "2022-08-15T19:54:58.615916Z",
     "iopub.status.busy": "2022-08-15T19:54:58.615505Z",
     "iopub.status.idle": "2022-08-15T19:54:58.627959Z",
     "shell.execute_reply": "2022-08-15T19:54:58.626178Z"
    },
    "papermill": {
     "duration": 0.038885,
     "end_time": "2022-08-15T19:54:58.630862",
     "exception": false,
     "start_time": "2022-08-15T19:54:58.591977",
     "status": "completed"
    },
    "tags": []
   },
   "outputs": [
    {
     "name": "stdout",
     "output_type": "stream",
     "text": [
      "              precision    recall  f1-score   support\n",
      "\n",
      "           0       0.86      0.98      0.92        64\n",
      "           1       0.89      0.44      0.59        18\n",
      "\n",
      "    accuracy                           0.87        82\n",
      "   macro avg       0.88      0.71      0.76        82\n",
      "weighted avg       0.87      0.87      0.85        82\n",
      "\n"
     ]
    }
   ],
   "source": [
    "print(classification_report(y_test, y_pred))"
   ]
  },
  {
   "cell_type": "code",
   "execution_count": 30,
   "id": "ca24ade8",
   "metadata": {
    "execution": {
     "iopub.execute_input": "2022-08-15T19:54:58.678276Z",
     "iopub.status.busy": "2022-08-15T19:54:58.677019Z",
     "iopub.status.idle": "2022-08-15T19:54:59.313194Z",
     "shell.execute_reply": "2022-08-15T19:54:59.311981Z"
    },
    "papermill": {
     "duration": 0.662746,
     "end_time": "2022-08-15T19:54:59.315883",
     "exception": false,
     "start_time": "2022-08-15T19:54:58.653137",
     "status": "completed"
    },
    "tags": []
   },
   "outputs": [
    {
     "data": {
      "image/png": "[encoded data removed]",
      "text/plain": [
       "<Figure size 720x720 with 1 Axes>"
      ]
     },
     "metadata": {
      "needs_background": "light"
     },
     "output_type": "display_data"
    }
   ],
   "source": [
    "# feature importance\n",
    "def plot_importance(model, features, num=len(X), save=False):\n",
    "    feature_imp = pd.DataFrame({'Value': model.feature_importances_, 'Feature': features.columns})\n",
    "    plt.figure(figsize=(10, 10))\n",
    "    sns.set(font_scale=1)\n",
    "    sns.barplot(x=\"Value\", y=\"Feature\", data=feature_imp.sort_values(by=\"Value\",\n",
    "                                                                     ascending=False)[0:num])\n",
    "    plt.title('Features')\n",
    "    plt.tight_layout()\n",
    "    plt.show()\n",
    "    if save:\n",
    "        plt.savefig('importances.png')\n",
    "\n",
    "plot_importance(final_lgbm, X)"
   ]
  },
  {
   "cell_type": "code",
   "execution_count": 31,
   "id": "ecdb4c04",
   "metadata": {
    "execution": {
     "iopub.execute_input": "2022-08-15T19:54:59.363638Z",
     "iopub.status.busy": "2022-08-15T19:54:59.363233Z",
     "iopub.status.idle": "2022-08-15T19:54:59.368982Z",
     "shell.execute_reply": "2022-08-15T19:54:59.367826Z"
    },
    "papermill": {
     "duration": 0.032972,
     "end_time": "2022-08-15T19:54:59.371487",
     "exception": false,
     "start_time": "2022-08-15T19:54:59.338515",
     "status": "completed"
    },
    "tags": []
   },
   "outputs": [],
   "source": [
    "lgbm_val_params = [\"learning_rate\", [0.01, 0.1]],\\\n",
    "                [\"n_estimators\", [100, 300, 500, 1000]],\\\n",
    "                [\"colsample_bytree\", [0.5, 0.7, 1]]\n"
   ]
  },
  {
   "cell_type": "code",
   "execution_count": 32,
   "id": "d0ca732f",
   "metadata": {
    "execution": {
     "iopub.execute_input": "2022-08-15T19:54:59.419542Z",
     "iopub.status.busy": "2022-08-15T19:54:59.419139Z",
     "iopub.status.idle": "2022-08-15T19:55:28.447906Z",
     "shell.execute_reply": "2022-08-15T19:55:28.446676Z"
    },
    "papermill": {
     "duration": 29.057016,
     "end_time": "2022-08-15T19:55:28.451037",
     "exception": false,
     "start_time": "2022-08-15T19:54:59.394021",
     "status": "completed"
    },
    "tags": []
   },
   "outputs": [
    {
     "data": {
      "image/png": "[encoded data removed]",
      "text/plain": [
       "<Figure size 432x288 with 1 Axes>"
      ]
     },
     "metadata": {},
     "output_type": "display_data"
    },
    {
     "data": {
      "image/png": "[encoded data removed]",
      "text/plain": [
       "<Figure size 432x288 with 1 Axes>"
      ]
     },
     "metadata": {},
     "output_type": "display_data"
    },
    {
     "data": {
      "image/png": "[encoded data removed]",
      "text/plain": [
       "<Figure size 432x288 with 1 Axes>"
      ]
     },
     "metadata": {},
     "output_type": "display_data"
    }
   ],
   "source": [
    "# Analyzing Model Complexity with Learning Curves\n",
    "def val_curve_params(model, X, y, param_name, param_range, scoring=\"roc_auc\", cv=10):\n",
    "    train_score, test_score = validation_curve(\n",
    "        model, X=X, y=y, param_name=param_name, param_range=param_range, scoring=scoring, cv=cv)\n",
    "\n",
    "    mean_train_score = np.mean(train_score, axis=1)\n",
    "    mean_test_score = np.mean(test_score, axis=1)\n",
    "\n",
    "    plt.plot(param_range, mean_train_score,\n",
    "             label=\"Training Score\", color='b')\n",
    "\n",
    "    plt.plot(param_range, mean_test_score,\n",
    "             label=\"Validation Score\", color='g')\n",
    "\n",
    "    plt.title(f\"Validation Curve for {type(model).__name__}\")\n",
    "    plt.xlabel(f\"Number of {param_name}\")\n",
    "    plt.ylabel(f\"{scoring}\")\n",
    "    plt.tight_layout()\n",
    "    plt.legend(loc='best')\n",
    "    plt.show()\n",
    "\n",
    "\n",
    "\n",
    "for i in range(len(lgbm_val_params)):\n",
    "    val_curve_params(final_lgbm, X, y, lgbm_val_params[i][0], lgbm_val_params[i][1])"
   ]
  },
  {
   "cell_type": "code",
   "execution_count": null,
   "id": "73199793",
   "metadata": {
    "papermill": {
     "duration": 0.024105,
     "end_time": "2022-08-15T19:55:28.499155",
     "exception": false,
     "start_time": "2022-08-15T19:55:28.475050",
     "status": "completed"
    },
    "tags": []
   },
   "outputs": [],
   "source": []
  },
  {
   "cell_type": "code",
   "execution_count": null,
   "id": "79d30fd4",
   "metadata": {
    "papermill": {
     "duration": 0.023673,
     "end_time": "2022-08-15T19:55:28.547115",
     "exception": false,
     "start_time": "2022-08-15T19:55:28.523442",
     "status": "completed"
    },
    "tags": []
   },
   "outputs": [],
   "source": []
  }
 ],
 "metadata": {
  "kernelspec": {
   "display_name": "Python 3",
   "language": "python",
   "name": "python3"
  },
  "language_info": {
   "codemirror_mode": {
    "name": "ipython",
    "version": 3
   },
   "file_extension": ".py",
   "mimetype": "text/x-python",
   "name": "python",
   "nbconvert_exporter": "python",
   "pygments_lexer": "ipython3",
   "version": "3.7.12"
  },
  "papermill": {
   "default_parameters": {},
   "duration": 246.666464,
   "end_time": "2022-08-15T19:55:31.196186",
   "environment_variables": {},
   "exception": null,
   "input_path": "__notebook__.ipynb",
   "output_path": "__notebook__.ipynb",
   "parameters": {},
   "start_time": "2022-08-15T19:51:24.529722",
   "version": "2.3.4"
  }
 },
 "nbformat": 4,
 "nbformat_minor": 5
}
